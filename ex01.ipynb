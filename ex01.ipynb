{
 "cells": [
  {
   "cell_type": "code",
   "execution_count": 1,
   "id": "bead45e4-13e9-4ad8-8a57-c0e712d1e097",
   "metadata": {},
   "outputs": [],
   "source": [
    "# 주석문 : Ctrl + ?\n",
    "# 실행 : Ctrl + Enter\n",
    "# 함수설명 : Shift + tab\n",
    "# 셀 추가 : Shift + Enter\n",
    "# 저장(자동 저장이 가능하나 빠르지 않음) : Ctrl + s"
   ]
  },
  {
   "cell_type": "code",
   "execution_count": 4,
   "id": "a75fe385-508f-455f-a999-8ba626847e01",
   "metadata": {},
   "outputs": [
    {
     "name": "stdout",
     "output_type": "stream",
     "text": [
      "hello\n",
      "hello\n"
     ]
    }
   ],
   "source": [
    "print('hello')\n",
    "print(\"hello\")"
   ]
  },
  {
   "cell_type": "code",
   "execution_count": 7,
   "id": "d9d7aa26-206a-444b-a40f-0710cd544b5b",
   "metadata": {},
   "outputs": [
    {
     "name": "stdout",
     "output_type": "stream",
     "text": [
      "<class 'int'>\n",
      "11\n"
     ]
    }
   ],
   "source": [
    "a=5\n",
    "b=6\n",
    "print(type(a))\n",
    "print(a+b)"
   ]
  },
  {
   "cell_type": "code",
   "execution_count": 12,
   "id": "d985eb8d-2533-47ff-80f7-2416ba015678",
   "metadata": {},
   "outputs": [
    {
     "name": "stdout",
     "output_type": "stream",
     "text": [
      "9\n",
      "20\n",
      "1\n",
      "1\n",
      "1.25\n",
      "125\n",
      "합은 9\n"
     ]
    }
   ],
   "source": [
    "a=5\n",
    "b=4\n",
    "print(a+b)\n",
    "print(a*b)\n",
    "print(a%b) #나머지\n",
    "print(a//b) # 몫\n",
    "print(a/b) # 나누기 소수점 표시\n",
    "print(a**3) # a^3\n",
    "\n",
    "print(f'합은 {a+b}') # 출력 포멧"
   ]
  },
  {
   "cell_type": "code",
   "execution_count": 2,
   "id": "b31930f5-09fe-41ca-abbb-9dc897c14ed1",
   "metadata": {},
   "outputs": [
    {
     "name": "stdin",
     "output_type": "stream",
     "text": [
      "숫자 입력? 2\n",
      "숫자 입력? 3\n"
     ]
    },
    {
     "name": "stdout",
     "output_type": "stream",
     "text": [
      "<class 'int'>\n",
      "<class 'int'>\n",
      "합은 5\n"
     ]
    }
   ],
   "source": [
    "a = int (input('숫자 입력?'))\n",
    "b = input('숫자 입력?')\n",
    "print(type(a))\n",
    "\n",
    "# 파이썬은 타입이 없기 때문에 의심되면 언제나 확인해보고 형변환을 해주어야함.\n",
    "a = int(a) #str -> int -> a\n",
    "b = int(b)\n",
    "\n",
    "print(type(a))\n",
    "print(f'합은 {a+b}')"
   ]
  },
  {
   "cell_type": "code",
   "execution_count": 4,
   "id": "df098c21-152d-4395-8dd6-6d890c4b082b",
   "metadata": {},
   "outputs": [
    {
     "name": "stdin",
     "output_type": "stream",
     "text": [
      "숫자 입력? 1\n",
      "숫자 입력? 2\n",
      "숫자 입력? 3\n"
     ]
    },
    {
     "name": "stdout",
     "output_type": "stream",
     "text": [
      "합 6\n",
      "평균 2.0\n"
     ]
    }
   ],
   "source": [
    "a = int(input('숫자 입력?'))\n",
    "b = int(input('숫자 입력?'))\n",
    "c = int(input('숫자 입력?'))\n",
    "\n",
    "print(f'합 {a+b+c}')\n",
    "print(f'평균 {(a+b+c)/3}')"
   ]
  },
  {
   "cell_type": "code",
   "execution_count": 7,
   "id": "56ac5fec-0886-44a7-95fd-f4e5744c441e",
   "metadata": {},
   "outputs": [
    {
     "name": "stdin",
     "output_type": "stream",
     "text": [
      "숫자입력 1234\n"
     ]
    },
    {
     "name": "stdout",
     "output_type": "stream",
     "text": [
      "마지막 자리수 4\n"
     ]
    }
   ],
   "source": [
    "a = int(input('숫자입력'))\n",
    "\n",
    "print(f'마지막 자리수 {a%10}')"
   ]
  },
  {
   "cell_type": "code",
   "execution_count": 31,
   "id": "f5b72994-9ab2-42f6-913f-8224f0653f56",
   "metadata": {},
   "outputs": [
    {
     "name": "stdin",
     "output_type": "stream",
     "text": [
      "1000 ~ 9999 사이 숫자 입력 4678\n"
     ]
    },
    {
     "name": "stdout",
     "output_type": "stream",
     "text": [
      "4\n",
      "6\n",
      "7\n",
      "8\n",
      "자리수 합 25 \n"
     ]
    }
   ],
   "source": [
    "a = int(input('1000 ~ 9999 사이 숫자 입력'))\n",
    "\n",
    "print(a//1000)\n",
    "print((a//100)%10)\n",
    "print((a%100)//10)\n",
    "print(a%10)\n",
    "\n",
    "print(f'자리수 합 {(a//1000)  + ((a//100)%10) + (a%100)//10 + (a%10) } ')"
   ]
  },
  {
   "cell_type": "code",
   "execution_count": 2,
   "id": "248f8d79-207c-4828-8115-f88e364573e8",
   "metadata": {},
   "outputs": [
    {
     "name": "stdin",
     "output_type": "stream",
     "text": [
      "숫자 입력 12\n"
     ]
    },
    {
     "name": "stdout",
     "output_type": "stream",
     "text": [
      "5보다 크다\n",
      "if문과 상관없음\n"
     ]
    }
   ],
   "source": [
    "# 조건문\n",
    "\n",
    "a = float(input('숫자 입력'))\n",
    "\n",
    "if a > 5 :\n",
    "    print('5보다 크다')\n",
    "else:\n",
    "    print('if문과 상관 있음 ')\n",
    "    \n",
    "print('if문과 상관없음')\n",
    " "
   ]
  },
  {
   "cell_type": "code",
   "execution_count": 3,
   "id": "c77f85ca-245b-471e-a0f7-c0bef2f2d902",
   "metadata": {},
   "outputs": [
    {
     "name": "stdin",
     "output_type": "stream",
     "text": [
      "숫자입력 123\n"
     ]
    }
   ],
   "source": [
    "# and or not\n",
    "\n",
    "a = int (input('숫자입력'))\n",
    "\n",
    "if a%5 == 0 or a%7==0 :\n",
    "    print('5의 배수 또는 7의 배수')"
   ]
  },
  {
   "cell_type": "code",
   "execution_count": 7,
   "id": "d196a5d0-4069-4e0a-92ce-61009483e646",
   "metadata": {},
   "outputs": [
    {
     "name": "stdin",
     "output_type": "stream",
     "text": [
      "숫자입력 1\n",
      "숫자입력 2\n",
      "숫자입력 3\n"
     ]
    },
    {
     "name": "stdout",
     "output_type": "stream",
     "text": [
      "3\n"
     ]
    }
   ],
   "source": [
    "# 가장 큰 숫자\n",
    "a = int(input('숫자입력'))\n",
    "b = int(input('숫자입력'))\n",
    "c = int(input('숫자입력'))\n",
    "\n",
    "if a>b and a>c:\n",
    "    print(a)\n",
    "elif b>a and b>c :\n",
    "        print(b)\n",
    "elif c>a and c>b :\n",
    "        print(c)\n",
    "        "
   ]
  },
  {
   "cell_type": "code",
   "execution_count": 2,
   "id": "015d0005-4a82-4e8b-be3c-b7e8ae5d2a3a",
   "metadata": {},
   "outputs": [
    {
     "name": "stdin",
     "output_type": "stream",
     "text": [
      "숫자입력 5\n"
     ]
    },
    {
     "name": "stdout",
     "output_type": "stream",
     "text": [
      "5의 배수\n"
     ]
    }
   ],
   "source": [
    "a = int(input('숫자입력'))\n",
    "\n",
    "if a%3==0 and a%5==0:\n",
    "    print('3, 5의 배수')\n",
    "elif a%5 == 0:\n",
    "    print('5의 배수')\n",
    "elif a%3 == 0:\n",
    "    print('3의 배수')\n",
    "else:\n",
    "    print('배수 아님')"
   ]
  },
  {
   "cell_type": "code",
   "execution_count": 8,
   "id": "eeefc471-65e9-4af3-b60a-b9feec6e54e7",
   "metadata": {},
   "outputs": [
    {
     "name": "stdin",
     "output_type": "stream",
     "text": [
      "숫자입력 1\n",
      "숫자입력 2\n",
      "숫자입력 3\n"
     ]
    },
    {
     "name": "stdout",
     "output_type": "stream",
     "text": [
      "2\n"
     ]
    }
   ],
   "source": [
    "# 두번째로 큰 중간 숫자 \n",
    "a = int(input('숫자입력'))\n",
    "b = int(input('숫자입력'))\n",
    "c = int(input('숫자입력'))\n",
    "\n",
    "if (a>b>c) or (c>b>a):\n",
    "    print(b)\n",
    "elif (b>a>c) or (c>a>b) :\n",
    "    print(a)\n",
    "elif (a>c>b) or (b>c>a) :\n",
    "    print(c)\n",
    "else : \n",
    "    print('같은 숫자')\n",
    "\n"
   ]
  }
 ],
 "metadata": {
  "kernelspec": {
   "display_name": "Python 3",
   "language": "python",
   "name": "python3"
  },
  "language_info": {
   "codemirror_mode": {
    "name": "ipython",
    "version": 3
   },
   "file_extension": ".py",
   "mimetype": "text/x-python",
   "name": "python",
   "nbconvert_exporter": "python",
   "pygments_lexer": "ipython3",
   "version": "3.8.8"
  }
 },
 "nbformat": 4,
 "nbformat_minor": 5
}
