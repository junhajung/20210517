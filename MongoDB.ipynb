{
 "cells": [
  {
   "cell_type": "code",
   "execution_count": 2,
   "id": "b2214e5d-a2cd-4919-9b49-039ba180a4ed",
   "metadata": {},
   "outputs": [
    {
     "name": "stdout",
     "output_type": "stream",
     "text": [
      "Requirement already satisfied: pymongo in c:\\users\\piwjs\\anaconda3\\lib\\site-packages (3.11.4)\n"
     ]
    }
   ],
   "source": [
    "# mongodb를 사용하기 위한 라이브러리\n",
    "! pip install pymongo"
   ]
  },
  {
   "cell_type": "code",
   "execution_count": 5,
   "id": "b3a75880-3f01-4810-b098-4ecbc4d72d1f",
   "metadata": {},
   "outputs": [],
   "source": [
    "import pymongo\n",
    "\n",
    "username = \"id124\"\n",
    "password = \"pw124\"\n",
    "host = \"1.234.5.158\"\n",
    "port = 37017\n",
    "dbname = \"id124\"\n",
    "\n",
    "# mongodb 접속\n",
    "# conn = pymongo.MongoClient(f\"mongodb://{host}:{port}\") \n",
    "conn= pymongo.MongoClient(f'mongodb://{username}:{password}@{host}:{port}/{dbname}')\n",
    "\n",
    "db = conn.get_database(dbname) #db선택\n",
    "\n",
    "collection = db.get_collection(\"member\") #collection == table과 비슷함\n",
    "dic1 = {\"id\":\"pyid\", \"pw\":\"aaa\",\"name\":'abc', \"age\":33} #딕셔너리 타입으로 생성\n",
    "collection.insert_one(dic1) # mongodb에 추가\n",
    "\n",
    "conn.close()    \n"
   ]
  }
 ],
 "metadata": {
  "kernelspec": {
   "display_name": "Python 3",
   "language": "python",
   "name": "python3"
  },
  "language_info": {
   "codemirror_mode": {
    "name": "ipython",
    "version": 3
   },
   "file_extension": ".py",
   "mimetype": "text/x-python",
   "name": "python",
   "nbconvert_exporter": "python",
   "pygments_lexer": "ipython3",
   "version": "3.8.8"
  }
 },
 "nbformat": 4,
 "nbformat_minor": 5
}
