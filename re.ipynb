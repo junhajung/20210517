{
 "cells": [
  {
   "cell_type": "code",
   "execution_count": 10,
   "id": "3be99ca7-13f4-4449-a2cd-f8ba51e8045e",
   "metadata": {},
   "outputs": [
    {
     "name": "stdout",
     "output_type": "stream",
     "text": [
      "한글만 있음\n",
      "(0, 4) 홍가가가\n"
     ]
    }
   ],
   "source": [
    "# 정규식\n",
    "import re\n",
    "\n",
    "# 한글인지 확인\n",
    "name = \"홍가가가\"\n",
    "\n",
    "# ^시작, $종료, + n 개, {최소개수, 최대개수}\n",
    "# b = re.match('^[가-힣]+$', name)\n",
    "b = re.match('^[가-힣]{2,5}$', name)\n",
    "\n",
    "if b != None:\n",
    "    print(\"한글만 있음\")\n",
    "    print(b.span(), b.group()) # 매칭하는 범위\n",
    "else:\n",
    "    print(\"한글이외 내용 있음\")"
   ]
  },
  {
   "cell_type": "code",
   "execution_count": 14,
   "id": "ec243253-61a0-4b62-bcf9-10b2dcd492dc",
   "metadata": {},
   "outputs": [
    {
     "name": "stdout",
     "output_type": "stream",
     "text": [
      "이메일 X\n"
     ]
    }
   ],
   "source": [
    "import re\n",
    "# a243@naver.com\n",
    "\n",
    "email = \"a243@@naver.com\"\n",
    "\n",
    "# \\@ -> 반드시 @ 한 개 나와야 한다\n",
    "# \\. -> 반드시 . 한 개 나와야 한다.\n",
    "b = re.match('^[a-zA-Z0-9+-.]+\\@[a-zA-Z0-9+-.]+\\.[a-zA-Z0-9+-_.]+$', email)\n",
    "\n",
    "if b != None:\n",
    "    print(\"이메일 형식 일치\")\n",
    "else:\n",
    "    print(\"이메일 X\")"
   ]
  },
  {
   "cell_type": "code",
   "execution_count": 18,
   "id": "55ff24b3-7973-4e07-9f29-3e6432b59ef4",
   "metadata": {},
   "outputs": [
    {
     "name": "stdout",
     "output_type": "stream",
     "text": [
      "휴대폰 형식 일치\n"
     ]
    }
   ],
   "source": [
    "import re\n",
    "\n",
    "tel = \"010-0000-0000\"\n",
    "\n",
    "# 123 667\n",
    "# ^[  ( [1-3]{3} | [6-9]{3}) ]\n",
    "\n",
    "b = re.match('^[0-9]{3}\\-[0-9]{4}\\-[0-9]{4}$', tel)\n",
    "\n",
    "if b != None:\n",
    "    print(\"휴대폰 형식 일치\")\n",
    "else:\n",
    "    print(\"휴대폰 X\")"
   ]
  },
  {
   "cell_type": "code",
   "execution_count": 81,
   "id": "e860b6f1-a580-4c49-9cc7-5eb5e5f6c61d",
   "metadata": {},
   "outputs": [
    {
     "name": "stdout",
     "output_type": "stream",
     "text": [
      "name 일치\n",
      "email 미일치\n",
      "date 일치\n",
      "time 일치\n",
      "birth 미일치\n",
      "------------------------------\n",
      "name 일치\n",
      "email 일치\n",
      "date 미일치\n",
      "time 미일치\n",
      "birth 일치\n",
      "------------------------------\n",
      "name 일치\n",
      "email 일치\n",
      "date 미일치\n",
      "time 미일치\n",
      "birth 일치\n",
      "------------------------------\n",
      "name 미일치\n",
      "email 일치\n",
      "date 일치\n",
      "time 일치\n",
      "birth 일치\n",
      "------------------------------\n",
      "name 일치\n",
      "email 일치\n",
      "date 미일치\n",
      "time 일치\n",
      "birth 일치\n",
      "------------------------------\n",
      "name 일치\n",
      "email 일치\n",
      "date 일치\n",
      "time 일치\n",
      "birth 일치\n",
      "{'id': 'f', 'name': '홍갈똥', 'email': 'abc@google.com', 'date': '2019-01-10', 'time': '14:50:59', 'birth': '09/10/1998'}\n",
      "------------------------------\n",
      "name 일치\n",
      "email 일치\n",
      "date 미일치\n",
      "time 미일치\n",
      "birth 일치\n",
      "------------------------------\n",
      "name 미일치\n",
      "email 일치\n",
      "date 일치\n",
      "time 일치\n",
      "birth 일치\n",
      "------------------------------\n",
      "name 일치\n",
      "email 미일치\n",
      "date 일치\n",
      "time 미일치\n",
      "birth 일치\n",
      "------------------------------\n",
      "name 일치\n",
      "email 일치\n",
      "date 일치\n",
      "time 미일치\n",
      "birth 미일치\n",
      "------------------------------\n"
     ]
    }
   ],
   "source": [
    "import requests\n",
    "import bs4\n",
    "import json\n",
    "import re\n",
    "\n",
    "url = \"http://ihongss.com/json/exam18.json\"\n",
    "data = requests.get(url).text\n",
    "data1 = json.loads(data)\n",
    "\n",
    "for tmp in data1:\n",
    "    \n",
    "    \n",
    "    a = re.match('^[가-힣]{2,5}$', tmp['name'])\n",
    "    if a!= None:\n",
    "        print(\"name 일치\")\n",
    "    else:\n",
    "        print(\"name 미일치\")\n",
    "        \n",
    "        \n",
    "    b = re.match('^[a-zA-Z0-9+-.]+\\@[a-zA-Z0-9+-.]+\\.[a-zA-Z0-9+-_.]+$', tmp['email'])\n",
    "    if b!= None:\n",
    "        print(\"email 일치\")\n",
    "    else :\n",
    "        print(\"email 미일치\")\n",
    "        \n",
    "        \n",
    "    c = re.match('^[0-9]{4}\\-[0-9]{2}\\-[0-9]{2}$', tmp['date'])\n",
    "    if c!= None:\n",
    "        print(\"date 일치\")\n",
    "    else:\n",
    "        print(\"date 미일치\")\n",
    "        \n",
    "        \n",
    "    d = re.match('^[0-2]{1}[0-9]{1}\\:[0-5]{1}[0-9]{1}\\:[0-5]{1}[0-9]{1}$', tmp['time'])\n",
    "    if d!= None:\n",
    "        print(\"time 일치\")\n",
    "    else:\n",
    "        print(\"time 미일치\")\n",
    "        \n",
    "        \n",
    "    e = re.match('^[0-3]{1}[0-9]{1}\\/([0]{1}[0-9]{1}|[1]{1}[0-2]{1})\\/[0-9]{4}$', tmp['birth'])\n",
    "    if e!= None:\n",
    "        print(\"birth 일치\")\n",
    "    else:\n",
    "        print(\"birth 미일치\")\n",
    "   \n",
    "\n",
    "    if (b != None and a != None and c != None and d != None and e != None):\n",
    "        print(tmp)        \n",
    "    print(\"-\" * 30)\n"
   ]
  },
  {
   "cell_type": "code",
   "execution_count": null,
   "id": "51c28ff1-8143-4913-a0bb-778accf583e4",
   "metadata": {},
   "outputs": [],
   "source": []
  }
 ],
 "metadata": {
  "kernelspec": {
   "display_name": "Python 3",
   "language": "python",
   "name": "python3"
  },
  "language_info": {
   "codemirror_mode": {
    "name": "ipython",
    "version": 3
   },
   "file_extension": ".py",
   "mimetype": "text/x-python",
   "name": "python",
   "nbconvert_exporter": "python",
   "pygments_lexer": "ipython3",
   "version": "3.8.8"
  }
 },
 "nbformat": 4,
 "nbformat_minor": 5
}
