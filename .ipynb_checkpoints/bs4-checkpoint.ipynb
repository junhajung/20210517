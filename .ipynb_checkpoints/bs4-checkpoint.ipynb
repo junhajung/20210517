{
 "cells": [
  {
   "cell_type": "code",
   "execution_count": 3,
   "id": "647e861d-b098-43ff-b3d3-8891e3c5f244",
   "metadata": {},
   "outputs": [
    {
     "data": {
      "text/plain": [
       "'<?xml version=\\'1.0\\' encoding=\\'utf-8\\'?>\\n<response>\\n  <items>\\n    <item id=\"1\">\\n      <name>one</name>\\n    </item>\\n    <item id=\"2\">\\n      <name>two</name>\\n    </item>\\n    <item id=\"3\">\\n      <name>three</name>\\n    </item>\\n  </items>\\n</response>\\n'"
      ]
     },
     "execution_count": 3,
     "metadata": {},
     "output_type": "execute_result"
    }
   ],
   "source": [
    "#json : 서버를 호출해서 값을 받아옴\n",
    "import requests\n",
    "\n",
    "url = \"http://ihongss.com/xml/exam1.xml\"\n",
    "response = requests.get(url)\n",
    "response.text #string으로 받아옴"
   ]
  },
  {
   "cell_type": "code",
   "execution_count": 6,
   "id": "4e661251-93c8-418e-95d8-77b946110c24",
   "metadata": {},
   "outputs": [
    {
     "data": {
      "text/plain": [
       "b'<?xml version=\\'1.0\\' encoding=\\'utf-8\\'?>\\n<response>\\n  <items>\\n    <item id=\"1\">\\n      <name>one</name>\\n    </item>\\n    <item id=\"2\">\\n      <name>two</name>\\n    </item>\\n    <item id=\"3\">\\n      <name>three</name>\\n    </item>\\n  </items>\\n</response>\\n'"
      ]
     },
     "execution_count": 6,
     "metadata": {},
     "output_type": "execute_result"
    }
   ],
   "source": [
    "# xml : 서버를 호출해서 값을 받아옴\n",
    "import urllib.request\n",
    "\n",
    "url = \"http://ihongss.com/xml/exam1.xml\"\n",
    "response = urllib.request.urlopen(url)\n",
    "response.read() # 제일 앞에 b가 붙어있음 (byte로 받아옴)"
   ]
  },
  {
   "cell_type": "code",
   "execution_count": 13,
   "id": "4e2e6d3b-ea89-4daa-821e-6aa833558b5a",
   "metadata": {},
   "outputs": [
    {
     "name": "stdout",
     "output_type": "stream",
     "text": [
      "<item id=\"1\">\n",
      "<name>one</name>\n",
      "</item>\n",
      "------------------------------\n",
      "<item id=\"2\">\n",
      "<name>two</name>\n",
      "</item>\n",
      "------------------------------\n",
      "<item id=\"3\">\n",
      "<name>three</name>\n",
      "</item>\n",
      "------------------------------\n"
     ]
    }
   ],
   "source": [
    "import requests\n",
    "import bs4\n",
    "\n",
    "url = \"http://ihongss.com/xml/exam1.xml\"\n",
    "response = requests.get(url)\n",
    "\n",
    "# XML일 경우 lxml-xml, HTML일 경우 html.parser\n",
    "soup = bs4.BeautifulSoup(response.text, 'lxml-xml')  # xml, html 둘 다 사용 가능하기 때문에 뒤에 'lxml-xml'이라고 넣어줌\n",
    "soup\n",
    "\n",
    "# soup.find_all() : 여러개 검색 => list\n",
    "# soup.select() : 여러개 검색 => list\n",
    "\n",
    "# soup.find() : 가장 먼저 검색되는 것 1개\n",
    "# soup.select_one() : 가장 먼저 검색되는 것 1개\n",
    "\n",
    "for tmp in soup.find_all('item'):\n",
    "    print(tmp) \n",
    "    print(\"-\" * 30)"
   ]
  },
  {
   "cell_type": "code",
   "execution_count": 11,
   "id": "3fd03e80-8bd3-46d5-9233-5872a8cd5b30",
   "metadata": {},
   "outputs": [
    {
     "name": "stdout",
     "output_type": "stream",
     "text": [
      "item {'id': '1'}\n",
      "------------------------------\n",
      "item {'id': '2'}\n",
      "------------------------------\n",
      "item {'id': '3'}\n",
      "------------------------------\n"
     ]
    }
   ],
   "source": [
    "\n",
    "for tmp in soup.find_all('item'):\n",
    "    print(tmp.name, tmp.attrs) # 태그(String), 속성(Dictionary)\n",
    "    print(\"-\" * 30)\n",
    "    "
   ]
  },
  {
   "cell_type": "code",
   "execution_count": 22,
   "id": "16cc8a15-f0de-4b4a-8ad0-98bda36b18ce",
   "metadata": {},
   "outputs": [
    {
     "name": "stdout",
     "output_type": "stream",
     "text": [
      "item 1\n",
      "------------------------------\n",
      "item 2\n",
      "------------------------------\n",
      "item 3\n",
      "------------------------------\n"
     ]
    }
   ],
   "source": [
    "\n",
    "for tmp in soup.find_all('item'):\n",
    "    print(tmp.name, tmp.attrs['id']) # 태그(String), 속성(Dictionary)\n",
    "    print(\"-\" * 30)\n",
    "    "
   ]
  },
  {
   "cell_type": "code",
   "execution_count": 24,
   "id": "ca6e6e22-e7dd-4f5e-a7c1-481872db6b28",
   "metadata": {},
   "outputs": [
    {
     "name": "stdout",
     "output_type": "stream",
     "text": [
      "item {'id': '1'} [<name>one</name>]\n",
      "item {'id': '1'} <name>one</name>\n",
      "item 1\n",
      "item 1 one\n",
      "------------------------------\n",
      "item {'id': '2'} [<name>two</name>]\n",
      "item {'id': '2'} <name>two</name>\n",
      "item 2\n",
      "item 2 two\n",
      "------------------------------\n",
      "item {'id': '3'} [<name>three</name>]\n",
      "item {'id': '3'} <name>three</name>\n",
      "item 3\n",
      "item 3 three\n",
      "------------------------------\n"
     ]
    }
   ],
   "source": [
    "\n",
    "for tmp in soup.find_all('item'):\n",
    "    print(tmp.name, tmp.attrs, tmp.find_all('name')) # find_all 해도 나오지만 배열 형식으로 들어옴.\n",
    "    # name은 태그이름, attrs는 속성, text는 태그 사이의 내용\n",
    "    print(tmp.name, tmp.attrs, tmp.find('name'))\n",
    "    print(tmp.name, tmp.attrs['id'], tmp.find('name').text) # 최종적으로 원하는 결과\n",
    "    print(\"-\" * 30)\n",
    "    "
   ]
  },
  {
   "cell_type": "code",
   "execution_count": 2,
   "id": "53834181-e71c-4db6-9ecc-51fe494d37ce",
   "metadata": {},
   "outputs": [
    {
     "name": "stdout",
     "output_type": "stream",
     "text": [
      "a 11 id_a addr1\n",
      "b 22 id_b addr2\n"
     ]
    }
   ],
   "source": [
    "import requests\n",
    "import bs4\n",
    "\n",
    "url = \"http://ihongss.com/resources/student.xml\"\n",
    "response = requests.get(url)\n",
    "\n",
    "soup = bs4.BeautifulSoup(response.text, 'lxml-xml')  \n",
    "soup\n",
    "\n",
    "# a 11 id_a addr1\n",
    "\n",
    "for tmp in soup.find_all('student'):\n",
    "    print(tmp.find('name').text, tmp.find('age').text, tmp.find('addr').attrs['id'], tmp.find('addr').text)\n",
    "    \n"
   ]
  },
  {
   "cell_type": "code",
   "execution_count": 3,
   "id": "a040bdbd-7048-4ad1-bb40-a3302ddd6412",
   "metadata": {},
   "outputs": [
    {
     "name": "stdout",
     "output_type": "stream",
     "text": [
      "a id_a\n",
      "b \n",
      "dic empty\n",
      "c \n",
      "dic empty\n",
      "==============================\n",
      "a1 \n",
      "dic empty\n",
      "b1 \n",
      "dic empty\n",
      "c1 \n",
      "dic empty\n",
      "==============================\n",
      "a2 \n",
      "dic empty\n",
      "b2 \n",
      "dic empty\n",
      "c2 \n",
      "dic empty\n",
      "==============================\n"
     ]
    }
   ],
   "source": [
    "# HTML 파싱\n",
    "\n",
    "import requests\n",
    "import bs4\n",
    "\n",
    "url = \"http://ihongss.com/resources/exam1.html\"\n",
    "response = requests.get(url)\n",
    "\n",
    "soup = bs4.BeautifulSoup(response.text, 'html.parser')  \n",
    "soup\n",
    "\n",
    "# 첫 번째 태그만 출력\n",
    "soup.find('div') # soup.select_one(\"div\")\n",
    "\n",
    "# 모두 출력\n",
    "soup.find_all('div') # soup.select(\"div\")\n",
    "\n",
    "# div 태그 중 class = \"first\"\n",
    "soup.find_all('div', {\"class\":\"first\"}) # soup.select(\"div.first\")\n",
    "\n",
    "for tmp in soup.find_all('div'):\n",
    "    for tmp1 in tmp.find_all('p'):\n",
    "        \n",
    "        # tmp1.attrs['id'], tmp1.attrs.get('id', \"\") -> 없는 값은 공백으로 대체 (get은 값이 없더라도 진행될 수 있도록 함.)\n",
    "        # get함수를 써서 들고오는게 안전. 바로 들고오면 없는 값 때문에 에러가 날 가능성 있음.\n",
    "        print(tmp1.text, tmp1.attrs.get(\"id\", \"\"))\n",
    "        \n",
    "        if not tmp1.attrs.get(\"id\"): # dictionary가 비어 키가 없는지 확인 가능.\n",
    "            print(\"dic empty\")\n",
    "        \n",
    "    print(\"=\" * 30)\n"
   ]
  },
  {
   "cell_type": "code",
   "execution_count": 4,
   "id": "4ab4587d-2720-421c-b2e4-85aab8952c23",
   "metadata": {},
   "outputs": [
    {
     "name": "stdout",
     "output_type": "stream",
     "text": [
      "한미정상회담, 보안·IT 분야 성과는? 랜섬웨어 대응 사이버 워킹그룹 설립 ...\n",
      "3월의 항공 협회 해킹 사건으로 인도항공도 피해 입었다\n",
      "지불 관련 인프라 파괴된 다크사이드, 지급 실패로 인민재판까지 걸려\n",
      "中, 4월 바이러스감염 기기 월간 2배 늘어... 보안사건도 1,750건으로...\n",
      "매일·매주 전 세계의 모든 보안 이슈·위협정보가 배달된다 \n",
      "==================================================\n",
      "한미정상회담, 보안·IT 분야 성과는? 랜섬웨어 대응 사이버 워킹그룹 설립 ...\n",
      "3월의 항공 협회 해킹 사건으로 인도항공도 피해 입었다\n",
      "지불 관련 인프라 파괴된 다크사이드, 지급 실패로 인민재판까지 걸려\n",
      "中, 4월 바이러스감염 기기 월간 2배 늘어... 보안사건도 1,750건으로...\n",
      "매일·매주 전 세계의 모든 보안 이슈·위협정보가 배달된다 \n"
     ]
    }
   ],
   "source": [
    "\n",
    "import requests\n",
    "import bs4\n",
    "\n",
    "url = \"https://www.boannews.com/Default.asp\"\n",
    "response = requests.get(url)\n",
    "\n",
    "soup = bs4.BeautifulSoup(response.text, 'html.parser')  \n",
    "soup\n",
    "\n",
    "# 방법1\n",
    "for tmp in soup.find_all('div', {\"id\": \"headline3\"}):\n",
    "    for tmp1 in tmp.find_all('li'):\n",
    "        for tmp2 in tmp1.find_all('p'):\n",
    "            print(tmp2.text)\n",
    "    print(\"=\" * 50)\n",
    "\n",
    "# 방법2 -> html에서 이 방법이 더 간편\n",
    "for tmp in soup.select(\"#headline3 > ul > li > p\"):\n",
    "    print(tmp.text)\n"
   ]
  },
  {
   "cell_type": "code",
   "execution_count": 6,
   "id": "37290cba-2610-48dc-a6de-0624819e1acb",
   "metadata": {},
   "outputs": [
    {
     "name": "stdout",
     "output_type": "stream",
     "text": [
      "분노의 질주: 더 얼티메이트\n",
      "https://movie.naver.com/movie/bi/mi/basic.nhn?code=189150\n",
      "==============================\n",
      "스파이럴\n",
      "https://movie.naver.com/movie/bi/mi/basic.nhn?code=191570\n",
      "==============================\n",
      "도라에몽: 스탠바이미 2\n",
      "https://movie.naver.com/movie/bi/mi/basic.nhn?code=200052\n",
      "==============================\n",
      "극장판 귀멸의 칼날: 무한열차편\n",
      "https://movie.naver.com/movie/bi/mi/basic.nhn?code=196051\n",
      "==============================\n",
      "더 스파이\n",
      "https://movie.naver.com/movie/bi/mi/basic.nhn?code=191914\n",
      "==============================\n",
      "['https://movie.naver.com/movie/bi/mi/basic.nhn?code=189150', 'https://movie.naver.com/movie/bi/mi/basic.nhn?code=191570', 'https://movie.naver.com/movie/bi/mi/basic.nhn?code=200052', 'https://movie.naver.com/movie/bi/mi/basic.nhn?code=196051', 'https://movie.naver.com/movie/bi/mi/basic.nhn?code=191914']\n"
     ]
    }
   ],
   "source": [
    "import requests\n",
    "import bs4\n",
    "\n",
    "url = \"https://movie.naver.com/movie/sdb/rank/rmovie.nhn\"\n",
    "response = requests.get(url)\n",
    "\n",
    "soup = bs4.BeautifulSoup(response.text, 'html.parser')  \n",
    "soup\n",
    "\n",
    "urls = []\n",
    "for tmp in soup.select(\"#old_content > table > tbody\"):\n",
    "        for tmp1 in tmp.find_all(\"a\", limit=5):\n",
    "            print(tmp1.text)\n",
    "            \n",
    "            print(\"https://movie.naver.com\" + tmp1.attrs.get(\"href\"))\n",
    "            print(\"=\" * 30)\n",
    "            \n",
    "            for i in range(50):\n",
    "                urls.append(\"https://movie.naver.com\" + tmp1.attrs.get(\"href\"))\n",
    "                if( i < 5) :\n",
    "                    break;\n",
    "print(urls)\n",
    "\n"
   ]
  },
  {
   "cell_type": "code",
   "execution_count": 5,
   "id": "147b1961-805c-4d4f-810d-e7fd46a9fe10",
   "metadata": {},
   "outputs": [
    {
     "name": "stdout",
     "output_type": "stream",
     "text": [
      "https://movie.naver.com/movie/bi/mi/basic.nhn?code=189150\n",
      "https://movie.naver.com/movie/bi/mi/basic.nhn?code=191570\n",
      "https://movie.naver.com/movie/bi/mi/basic.nhn?code=200052\n",
      "https://movie.naver.com/movie/bi/mi/basic.nhn?code=196051\n",
      "https://movie.naver.com/movie/bi/mi/basic.nhn?code=191914\n",
      "[['분노의 질주: 더 얼티메이트', '스파이럴', '도라에몽: 스탠바이미 2', '극장판 귀멸의 칼날: 무한열차편', '더 스파이'], ['12세 관람가', '청소년 관람불가', '전체 관람가', '15세 관람가', '15세 관람가', 'PG-13', '도움말'], ['관람객 평점 9.05점', '관람객 평점 7.74점', '관람객 평점 9.08점', '관람객 평점 9.62점', '관람객 평점 8.78점'], ['액션', '스릴러', '애니메이션', '드라마', '가족', 'SF', '애니메이션', '스릴러'], ['142분 ', '93분 ', '96분 ', '117분 ', '112분 '], ['2021.05.19', '2021.05.12', '2021.05.19', '2021.01.27', '2021.04.28'], ['저스틴 린', '대런 린 보우즈만', '야기 류이치, 야마자키 다카시', '소토자키 하루오', '도미닉 쿡'], ['빈 디젤(도미닉 토레토), 존 시나(제이콥 토레토), 성 강(한)', '크리스 록, 사무엘 L. 잭슨, 마리솔 니콜스', '윤아영(도라에몽 한국어 목소리), 김정아(진구 한국어 목소리), 김혜성(성인 진구 한국어 목소리)', '하나에 나츠키(카마도 탄지로 목소리), 키토 아카리(카마도 네즈코 목소리)', '베네딕트 컴버배치(그레빌 윈)']]\n"
     ]
    }
   ],
   "source": [
    "import requests\n",
    "import hdfs \n",
    "import json\n",
    "import bs4\n",
    "\n",
    "client_hdfs = hdfs.InsecureClient('http://1.234.5.158:9870', user='hdfs') \n",
    "\n",
    "name =[]\n",
    "saw = []\n",
    "num = []\n",
    "g = []\n",
    "time = []\n",
    "date = []\n",
    "director = []\n",
    "actor = []\n",
    "\n",
    "for i in range(0, 5, 1): #위에서 수집한 링크를 반복\n",
    "    response = requests.get(urls[i])\n",
    "\n",
    "    soup = bs4.BeautifulSoup(response.text, 'html.parser') \n",
    "    \n",
    "    \n",
    "    print(urls[i])\n",
    "    for tmp in soup.select(\"#content > div.article > div.mv_info_area > div.mv_info > h3 > a:nth-child(1)\"):\n",
    "        name.append(tmp.text)\n",
    "\n",
    "        \n",
    "    for tmp in soup.select(\"#content > div.article > div.mv_info_area > div.mv_info > dl > dd:nth-child(8) > p > a\"):\n",
    "        saw.append(tmp.text)\n",
    "\n",
    "        \n",
    "    for tmp in soup.select(\"#actualPointPersentBasic > div > span > span\"):\n",
    "        num.append(tmp.text)\n",
    "\n",
    "        \n",
    "    for tmp in soup.select(\"#content > div.article > div.mv_info_area > div.mv_info > dl > dd:nth-child(2) > p > span:nth-child(1) > a\"):\n",
    "        g.append(tmp.text)\n",
    "\n",
    "        \n",
    "    for tmp in soup.select(\"#content > div.article > div.mv_info_area > div.mv_info > dl > dd:nth-child(2) > p > span:nth-child(3)\"):\n",
    "        time.append(tmp.text)\n",
    "        \n",
    "        \n",
    "    for tmp in soup.select(\"#content > div.article > div.mv_info_area > div.mv_info > dl > dd:nth-child(2) > p > span:nth-child(4) > a:nth-child(1)\"):\n",
    "        for tmp1 in soup.select(\"#content > div.article > div.mv_info_area > div.mv_info > dl > dd:nth-child(2) > p > span:nth-child(4) > a:nth-child(2)\"):\n",
    "            date.append(tmp.text.strip() + tmp1.text)\n",
    "\n",
    "            \n",
    "    for tmp in soup.select(\"#content > div.article > div.mv_info_area > div.mv_info > dl > dd:nth-child(4)\"):\n",
    "        director.append(tmp.text)\n",
    "\n",
    "        \n",
    "    for tmp in soup.select(\"#content > div.article > div.mv_info_area > div.mv_info > dl > dd:nth-child(6) > p\"):\n",
    "        actor.append(tmp.text)\n",
    "\n",
    "# print(name, saw, num, g, time, date, director, actor)\n",
    "data = []\n",
    "data.append(name)\n",
    "data.append(saw)\n",
    "data.append(num)\n",
    "data.append(g)\n",
    "data.append(time)\n",
    "data.append(date)\n",
    "data.append(director)\n",
    "data.append(actor)\n",
    "\n",
    "print(data)\n",
    "\n",
    "# 접속    \n",
    "client_hdfs = hdfs.InsecureClient('http://1.234.5.158:9870', user='hdfs')  \n",
    "\n",
    "\n",
    "# # 저장하기\n",
    "# with client_hdfs.write('/id124/ex_movie.json', encoding=\"utf-8\") as writer:\n",
    "#     json.dump(data, writer)"
   ]
  },
  {
   "cell_type": "code",
   "execution_count": 29,
   "id": "cf16324c-3229-4dec-bf26-8ff42e041263",
   "metadata": {},
   "outputs": [
    {
     "name": "stdout",
     "output_type": "stream",
     "text": [
      "https://movie.naver.com/movie/bi/mi/basic.nhn?code=189150\n",
      "분노의 질주: 더 얼티메이트\n",
      "12세 관람가\n",
      "관람객 평점 9.05점\n",
      "액션\n",
      "142분 \n",
      "2021.05.19\n",
      "저스틴 린\n",
      "빈 디젤(도미닉 토레토), 존 시나(제이콥 토레토), 성 강(한)\n",
      "https://movie.naver.com/movie/bi/mi/basic.nhn?code=191570\n",
      "스파이럴\n",
      "청소년 관람불가\n",
      "관람객 평점 7.74점\n",
      "스릴러\n",
      "93분 \n",
      "2021.05.12\n",
      "대런 린 보우즈만\n",
      "크리스 록, 사무엘 L. 잭슨, 마리솔 니콜스\n",
      "https://movie.naver.com/movie/bi/mi/basic.nhn?code=200052\n",
      "도라에몽: 스탠바이미 2\n",
      "전체 관람가\n",
      "관람객 평점 9.08점\n",
      "애니메이션\n",
      "드라마\n",
      "가족\n",
      "SF\n",
      "96분 \n",
      "2021.05.19\n",
      "야기 류이치, 야마자키 다카시\n",
      "윤아영(도라에몽 한국어 목소리), 김정아(진구 한국어 목소리), 김혜성(성인 진구 한국어 목소리)\n",
      "https://movie.naver.com/movie/bi/mi/basic.nhn?code=196051\n",
      "극장판 귀멸의 칼날: 무한열차편\n",
      "15세 관람가\n",
      "관람객 평점 9.62점\n",
      "애니메이션\n",
      "117분 \n",
      "2021.01.27\n",
      "소토자키 하루오\n",
      "하나에 나츠키(카마도 탄지로 목소리), 키토 아카리(카마도 네즈코 목소리)\n",
      "https://movie.naver.com/movie/bi/mi/basic.nhn?code=191914\n",
      "더 스파이\n",
      "15세 관람가\n",
      "PG-13\n",
      "도움말\n",
      "관람객 평점 8.78점\n",
      "스릴러\n",
      "112분 \n",
      "2021.04.28\n",
      "도미닉 쿡\n",
      "베네딕트 컴버배치(그레빌 윈)\n",
      "[{'name': '분노의 질주: 더 얼티메이트', 'saw': '12세 관람가', 'num': '관람객 평점 9.05점', 'g': '액션', 'time': '142분 ', 'director': '저스틴 린', 'actor': '빈 디젤(도미닉 토레토), 존 시나(제이콥 토레토), 성 강(한)'}, {'name': '스파이럴', 'saw': '청소년 관람불가', 'num': '관람객 평점 7.74점', 'g': '스릴러', 'time': '93분 ', 'director': '대런 린 보우즈만', 'actor': '크리스 록, 사무엘 L. 잭슨, 마리솔 니콜스'}, {'name': '도라에몽: 스탠바이미 2', 'saw': '전체 관람가', 'num': '관람객 평점 9.08점', 'g': 'SF', 'time': '96분 ', 'director': '야기 류이치, 야마자키 다카시', 'actor': '윤아영(도라에몽 한국어 목소리), 김정아(진구 한국어 목소리), 김혜성(성인 진구 한국어 목소리)'}, {'name': '극장판 귀멸의 칼날: 무한열차편', 'saw': '15세 관람가', 'num': '관람객 평점 9.62점', 'g': '애니메이션', 'time': '117분 ', 'director': '소토자키 하루오', 'actor': '하나에 나츠키(카마도 탄지로 목소리), 키토 아카리(카마도 네즈코 목소리)'}, {'name': '더 스파이', 'saw': '도움말', 'num': '관람객 평점 8.78점', 'g': '스릴러', 'time': '112분 ', 'director': '도미닉 쿡', 'actor': '베네딕트 컴버배치(그레빌 윈)'}]\n"
     ]
    }
   ],
   "source": [
    "import requests\n",
    "import hdfs \n",
    "import json\n",
    "import bs4\n",
    "\n",
    "client_hdfs = hdfs.InsecureClient('http://1.234.5.158:9870', user='hdfs') \n",
    "\n",
    "data = []\n",
    "for i in range(0, 5, 1): #위에서 수집한 링크를 반복\n",
    "    response = requests.get(urls[i])\n",
    "\n",
    "    soup = bs4.BeautifulSoup(response.text, 'html.parser') \n",
    "    \n",
    "    \n",
    "    print(urls[i])\n",
    "    for tmp in soup.select(\"#content > div.article > div.mv_info_area > div.mv_info > h3 > a:nth-child(1)\"):\n",
    "        name = tmp.text\n",
    "        print(name)\n",
    "\n",
    "        \n",
    "    for tmp in soup.select(\"#content > div.article > div.mv_info_area > div.mv_info > dl > dd:nth-child(8) > p > a\"):\n",
    "        saw = tmp.text\n",
    "        print(saw)\n",
    "\n",
    "        \n",
    "    for tmp in soup.select(\"#actualPointPersentBasic > div > span > span\"):\n",
    "        num = tmp.text\n",
    "        print(num)\n",
    "\n",
    "\n",
    "        \n",
    "    for tmp in soup.select(\"#content > div.article > div.mv_info_area > div.mv_info > dl > dd:nth-child(2) > p > span:nth-child(1) > a\"):\n",
    "        g = tmp.text\n",
    "        print(g)\n",
    "\n",
    "        \n",
    "    for tmp in soup.select(\"#content > div.article > div.mv_info_area > div.mv_info > dl > dd:nth-child(2) > p > span:nth-child(3)\"):\n",
    "        time = tmp.text\n",
    "        print(time)\n",
    "        \n",
    "        \n",
    "    for tmp in soup.select(\"#content > div.article > div.mv_info_area > div.mv_info > dl > dd:nth-child(2) > p > span:nth-child(4) > a:nth-child(1)\"):\n",
    "        for tmp1 in soup.select(\"#content > div.article > div.mv_info_area > div.mv_info > dl > dd:nth-child(2) > p > span:nth-child(4) > a:nth-child(2)\"):\n",
    "            date = tmp.text.strip() + tmp1.text\n",
    "            print(date)\n",
    "\n",
    "            \n",
    "    for tmp in soup.select(\"#content > div.article > div.mv_info_area > div.mv_info > dl > dd:nth-child(4)\"):\n",
    "        director = tmp.text\n",
    "        print(director)\n",
    "\n",
    "\n",
    "        \n",
    "    for tmp in soup.select(\"#content > div.article > div.mv_info_area > div.mv_info > dl > dd:nth-child(6) > p\"):\n",
    "        actor = tmp.text\n",
    "        print(actor)\n",
    "        \n",
    "       \n",
    "    tmp1 = {\"name\" : name, \"saw\" : saw, \"num\" : num, \"g\" : g , \"time\" :time, \"director\":director, \"actor\" : actor}\n",
    "    data.append(tmp1)\n"
   ]
  },
  {
   "cell_type": "code",
   "execution_count": 9,
   "id": "7a53a706-39d9-4675-bea1-98a4e262e362",
   "metadata": {},
   "outputs": [
    {
     "name": "stdout",
     "output_type": "stream",
     "text": [
      "https://movie-phinf.pstatic.net/20210512_139/1620799657168vGIqq_JPEG/movie_image.jpg?type=m99_141_2\n",
      "크루엘라\n",
      "------------------------------\n",
      "https://movie-phinf.pstatic.net/20210421_37/1618971733493B4ykS_JPEG/movie_image.jpg?type=m99_141_2\n",
      "분노의 질주: 더 얼티메이트\n",
      "------------------------------\n",
      "https://movie-phinf.pstatic.net/20210514_260/1620968155844BktBp_JPEG/movie_image.jpg?type=m99_141_2\n",
      "파이프라인\n",
      "------------------------------\n",
      "https://movie-phinf.pstatic.net/20210517_51/16212169542411PAv1_JPEG/movie_image.jpg?type=m99_141_2\n",
      "보이저스\n",
      "------------------------------\n",
      "https://movie-phinf.pstatic.net/20210521_40/1621587883416Xe5Lu_JPEG/movie_image.jpg?type=m99_141_2\n",
      "500일의 썸머\n",
      "------------------------------\n"
     ]
    }
   ],
   "source": [
    "from selenium import webdriver\n",
    "import bs4 # pip install bs4\n",
    "import time\n",
    "import urllib.request as REQ # 서버 요청\n",
    "from selenium.webdriver.common.keys import Keys\n",
    "import base64\n",
    "\n",
    "url = \"https://movie.naver.com/movie/running/current.nhn?order=reserve\"\n",
    "\n",
    "\n",
    "# 옵션설정\n",
    "options = webdriver.ChromeOptions()\n",
    "options.add_argument(\"disable-gpu\")   \n",
    "options.add_argument(\"lang=ko_KR\")    \n",
    "# options.add_argument(\"headless\") # 크롬창이 표시되지 않음\n",
    "options.add_argument('user-agent=Mozilla/5.0 (Macintosh; Intel Mac OS X 10_12_6) AppleWebKit/537.36 (KHTML, like Gecko) Chrome/61.0.3163.100 Safari/537.36')  # user-agent \n",
    "\n",
    "# 드라이브 로딩\n",
    "driver = webdriver.Chrome(executable_path=\"driver/chromedriver.exe\", options = options)\n",
    "# 페이지 접속\n",
    "driver.get(url)\n",
    "\n",
    "time.sleep(1) \n",
    "\n",
    "\n",
    "# 이미지 저장\n",
    "for idx in range(1,6,1):\n",
    "    name = driver.find_element_by_xpath(f'//*[@id=\"content\"]/div[1]/div[1]/div[3]/ul/li[{idx}]/dl/dt/a')\n",
    "    names = name.text\n",
    "    img = driver.find_element_by_xpath(f'//*[@id=\"content\"]/div[1]/div[1]/div[3]/ul/li[{idx}]/div/a/img')\n",
    "    REQ.urlretrieve( img.get_attribute(\"src\"), f'download/{names}.jpg' )\n",
    "    \n",
    "    print(img.get_attribute(\"src\"))\n",
    "    print(name.text)\n",
    "    print(\"-\" * 30)\n",
    "\n",
    "\n",
    "driver.close()\n"
   ]
  },
  {
   "cell_type": "code",
   "execution_count": 31,
   "id": "30caa650-3401-4434-9b3b-7d4054aac7a7",
   "metadata": {},
   "outputs": [
    {
     "name": "stdout",
     "output_type": "stream",
     "text": [
      "[{'name': '분노의 질주: 더 얼티메이트', 'saw': '12세 관람가', 'num': '관람객 평점 9.05점', 'g': '액션', 'time': '142분 ', 'director': '저스틴 린', 'actor': '빈 디젤(도미닉 토레토), 존 시나(제이콥 토레토), 성 강(한)'}, {'name': '스파이럴', 'saw': '청소년 관람불가', 'num': '관람객 평점 7.74점', 'g': '스릴러', 'time': '93분 ', 'director': '대런 린 보우즈만', 'actor': '크리스 록, 사무엘 L. 잭슨, 마리솔 니콜스'}, {'name': '도라에몽: 스탠바이미 2', 'saw': '전체 관람가', 'num': '관람객 평점 9.08점', 'g': 'SF', 'time': '96분 ', 'director': '야기 류이치, 야마자키 다카시', 'actor': '윤아영(도라에몽 한국어 목소리), 김정아(진구 한국어 목소리), 김혜성(성인 진구 한국어 목소리)'}, {'name': '극장판 귀멸의 칼날: 무한열차편', 'saw': '15세 관람가', 'num': '관람객 평점 9.62점', 'g': '애니메이션', 'time': '117분 ', 'director': '소토자키 하루오', 'actor': '하나에 나츠키(카마도 탄지로 목소리), 키토 아카리(카마도 네즈코 목소리)'}, {'name': '더 스파이', 'saw': '도움말', 'num': '관람객 평점 8.78점', 'g': '스릴러', 'time': '112분 ', 'director': '도미닉 쿡', 'actor': '베네딕트 컴버배치(그레빌 윈)'}]\n",
      "정상수행\n"
     ]
    }
   ],
   "source": [
    "import pymongo\n",
    "\n",
    "try:\n",
    "    username = \"id124\"\n",
    "    password = \"pw124\"\n",
    "    host = \"1.234.5.158\"\n",
    "    port = 37017\n",
    "    dbname = \"id124\"\n",
    "    \n",
    "    # mongodb접속\n",
    "    conn = pymongo.MongoClient(f'mongodb://{username}:{password}@{host}:{port}/{dbname}')\n",
    "    db = conn.get_database(dbname)\n",
    "    collection = db.get_collection(\"exam_movie\")\n",
    "\n",
    "\n",
    "    print(data)\n",
    "    collection.insert_many(data)\n",
    "    print(\"정상수행\")\n",
    "    \n",
    "except Exception as e:\n",
    "    print(e)\n",
    "finally:\n",
    "    conn.close()\n"
   ]
  },
  {
   "cell_type": "code",
   "execution_count": null,
   "id": "6a1b2a5e-4bc1-42bb-abcf-49aad2b687f8",
   "metadata": {},
   "outputs": [],
   "source": []
  }
 ],
 "metadata": {
  "kernelspec": {
   "display_name": "Python 3",
   "language": "python",
   "name": "python3"
  },
  "language_info": {
   "codemirror_mode": {
    "name": "ipython",
    "version": 3
   },
   "file_extension": ".py",
   "mimetype": "text/x-python",
   "name": "python",
   "nbconvert_exporter": "python",
   "pygments_lexer": "ipython3",
   "version": "3.8.8"
  }
 },
 "nbformat": 4,
 "nbformat_minor": 5
}
