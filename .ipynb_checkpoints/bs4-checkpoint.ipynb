{
 "cells": [
  {
   "cell_type": "code",
   "execution_count": 3,
   "id": "647e861d-b098-43ff-b3d3-8891e3c5f244",
   "metadata": {},
   "outputs": [
    {
     "data": {
      "text/plain": [
       "'<?xml version=\\'1.0\\' encoding=\\'utf-8\\'?>\\n<response>\\n  <items>\\n    <item id=\"1\">\\n      <name>one</name>\\n    </item>\\n    <item id=\"2\">\\n      <name>two</name>\\n    </item>\\n    <item id=\"3\">\\n      <name>three</name>\\n    </item>\\n  </items>\\n</response>\\n'"
      ]
     },
     "execution_count": 3,
     "metadata": {},
     "output_type": "execute_result"
    }
   ],
   "source": [
    "#json : 서버를 호출해서 값을 받아옴\n",
    "import requests\n",
    "\n",
    "url = \"http://ihongss.com/xml/exam1.xml\"\n",
    "response = requests.get(url)\n",
    "response.text #string으로 받아옴"
   ]
  },
  {
   "cell_type": "code",
   "execution_count": 6,
   "id": "4e661251-93c8-418e-95d8-77b946110c24",
   "metadata": {},
   "outputs": [
    {
     "data": {
      "text/plain": [
       "b'<?xml version=\\'1.0\\' encoding=\\'utf-8\\'?>\\n<response>\\n  <items>\\n    <item id=\"1\">\\n      <name>one</name>\\n    </item>\\n    <item id=\"2\">\\n      <name>two</name>\\n    </item>\\n    <item id=\"3\">\\n      <name>three</name>\\n    </item>\\n  </items>\\n</response>\\n'"
      ]
     },
     "execution_count": 6,
     "metadata": {},
     "output_type": "execute_result"
    }
   ],
   "source": [
    "# xml : 서버를 호출해서 값을 받아옴\n",
    "import urllib.request\n",
    "\n",
    "url = \"http://ihongss.com/xml/exam1.xml\"\n",
    "response = urllib.request.urlopen(url)\n",
    "response.read() # 제일 앞에 b가 붙어있음 (byte로 받아옴)"
   ]
  },
  {
   "cell_type": "code",
   "execution_count": 13,
   "id": "4e2e6d3b-ea89-4daa-821e-6aa833558b5a",
   "metadata": {},
   "outputs": [
    {
     "name": "stdout",
     "output_type": "stream",
     "text": [
      "<item id=\"1\">\n",
      "<name>one</name>\n",
      "</item>\n",
      "------------------------------\n",
      "<item id=\"2\">\n",
      "<name>two</name>\n",
      "</item>\n",
      "------------------------------\n",
      "<item id=\"3\">\n",
      "<name>three</name>\n",
      "</item>\n",
      "------------------------------\n"
     ]
    }
   ],
   "source": [
    "import requests\n",
    "import bs4\n",
    "\n",
    "url = \"http://ihongss.com/xml/exam1.xml\"\n",
    "response = requests.get(url)\n",
    "\n",
    "# XML일 경우 lxml-xml, HTML일 경우 html.parser\n",
    "soup = bs4.BeautifulSoup(response.text, 'lxml-xml')  # xml, html 둘 다 사용 가능하기 때문에 뒤에 'lxml-xml'이라고 넣어줌\n",
    "soup\n",
    "\n",
    "# soup.find_all() : 여러개 검색 => list\n",
    "# soup.select() : 여러개 검색 => list\n",
    "\n",
    "# soup.find() : 가장 먼저 검색되는 것 1개\n",
    "# soup.select_one() : 가장 먼저 검색되는 것 1개\n",
    "\n",
    "for tmp in soup.find_all('item'):\n",
    "    print(tmp) \n",
    "    print(\"-\" * 30)"
   ]
  },
  {
   "cell_type": "code",
   "execution_count": 11,
   "id": "3fd03e80-8bd3-46d5-9233-5872a8cd5b30",
   "metadata": {},
   "outputs": [
    {
     "name": "stdout",
     "output_type": "stream",
     "text": [
      "item {'id': '1'}\n",
      "------------------------------\n",
      "item {'id': '2'}\n",
      "------------------------------\n",
      "item {'id': '3'}\n",
      "------------------------------\n"
     ]
    }
   ],
   "source": [
    "\n",
    "for tmp in soup.find_all('item'):\n",
    "    print(tmp.name, tmp.attrs) # 태그(String), 속성(Dictionary)\n",
    "    print(\"-\" * 30)\n",
    "    "
   ]
  },
  {
   "cell_type": "code",
   "execution_count": 22,
   "id": "16cc8a15-f0de-4b4a-8ad0-98bda36b18ce",
   "metadata": {},
   "outputs": [
    {
     "name": "stdout",
     "output_type": "stream",
     "text": [
      "item 1\n",
      "------------------------------\n",
      "item 2\n",
      "------------------------------\n",
      "item 3\n",
      "------------------------------\n"
     ]
    }
   ],
   "source": [
    "\n",
    "for tmp in soup.find_all('item'):\n",
    "    print(tmp.name, tmp.attrs['id']) # 태그(String), 속성(Dictionary)\n",
    "    print(\"-\" * 30)\n",
    "    "
   ]
  },
  {
   "cell_type": "code",
   "execution_count": 24,
   "id": "ca6e6e22-e7dd-4f5e-a7c1-481872db6b28",
   "metadata": {},
   "outputs": [
    {
     "name": "stdout",
     "output_type": "stream",
     "text": [
      "item {'id': '1'} [<name>one</name>]\n",
      "item {'id': '1'} <name>one</name>\n",
      "item 1\n",
      "item 1 one\n",
      "------------------------------\n",
      "item {'id': '2'} [<name>two</name>]\n",
      "item {'id': '2'} <name>two</name>\n",
      "item 2\n",
      "item 2 two\n",
      "------------------------------\n",
      "item {'id': '3'} [<name>three</name>]\n",
      "item {'id': '3'} <name>three</name>\n",
      "item 3\n",
      "item 3 three\n",
      "------------------------------\n"
     ]
    }
   ],
   "source": [
    "\n",
    "for tmp in soup.find_all('item'):\n",
    "    print(tmp.name, tmp.attrs, tmp.find_all('name')) # find_all 해도 나오지만 배열 형식으로 들어옴.\n",
    "    # name은 태그이름, attrs는 속성, text는 태그 사이의 내용\n",
    "    print(tmp.name, tmp.attrs, tmp.find('name'))\n",
    "    print(tmp.name, tmp.attrs['id'], tmp.find('name').text) # 최종적으로 원하는 결과\n",
    "    print(\"-\" * 30)\n",
    "    "
   ]
  },
  {
   "cell_type": "code",
   "execution_count": 42,
   "id": "53834181-e71c-4db6-9ecc-51fe494d37ce",
   "metadata": {},
   "outputs": [
    {
     "name": "stdout",
     "output_type": "stream",
     "text": [
      "a 11 id_a addr1\n",
      "b 22 id_b addr2\n"
     ]
    }
   ],
   "source": [
    "import requests\n",
    "import bs4\n",
    "\n",
    "url = \"http://ihongss.com/resources/student.xml\"\n",
    "response = requests.get(url)\n",
    "\n",
    "soup = bs4.BeautifulSoup(response.text, 'lxml-xml')  \n",
    "soup\n",
    "\n",
    "# a 11 id_a addr1\n",
    "\n",
    "for tmp in soup.find_all('student'):\n",
    "    print(tmp.find('name').text, tmp.find('age').text, tmp.find('addr').attrs['id'], tmp.find('addr').text)\n",
    "    \n"
   ]
  },
  {
   "cell_type": "code",
   "execution_count": 56,
   "id": "a040bdbd-7048-4ad1-bb40-a3302ddd6412",
   "metadata": {},
   "outputs": [
    {
     "name": "stdout",
     "output_type": "stream",
     "text": [
      "a id_a\n",
      "b \n",
      "dic empty\n",
      "c \n",
      "dic empty\n",
      "==============================\n",
      "a1 \n",
      "dic empty\n",
      "b1 \n",
      "dic empty\n",
      "c1 \n",
      "dic empty\n",
      "==============================\n",
      "a2 \n",
      "dic empty\n",
      "b2 \n",
      "dic empty\n",
      "c2 \n",
      "dic empty\n",
      "==============================\n"
     ]
    }
   ],
   "source": [
    "# HTML 파싱\n",
    "\n",
    "import requests\n",
    "import bs4\n",
    "\n",
    "url = \"http://ihongss.com/resources/exam1.html\"\n",
    "response = requests.get(url)\n",
    "\n",
    "soup = bs4.BeautifulSoup(response.text, 'html.parser')  \n",
    "soup\n",
    "\n",
    "# 첫 번째 태그만 출력\n",
    "soup.find('div') # soup.select_one(\"div\")\n",
    "\n",
    "# 모두 출력\n",
    "soup.find_all('div') # soup.select(\"div\")\n",
    "\n",
    "# div 태그 중 class = \"first\"\n",
    "soup.find_all('div', {\"class\":\"first\"}) # soup.select(\"div.first\")\n",
    "\n",
    "for tmp in soup.find_all('div'):\n",
    "    for tmp1 in tmp.find_all('p'):\n",
    "        \n",
    "        # tmp1.attrs['id'], tmp1.attrs.get('id', \"\") -> 없는 값은 공백으로 대체 (get은 값이 없더라도 진행될 수 있도록 함.)\n",
    "        # get함수를 써서 들고오는게 안전. 바로 들고오면 없는 값 때문에 에러가 날 가능성 있음.\n",
    "        print(tmp1.text, tmp1.attrs.get(\"id\", \"\"))\n",
    "        \n",
    "        if not tmp1.attrs.get(\"id\"): # dictionary가 비어 키가 없는지 확인 가능.\n",
    "            print(\"dic empty\")\n",
    "        \n",
    "    print(\"=\" * 30)\n"
   ]
  },
  {
   "cell_type": "code",
   "execution_count": 72,
   "id": "4ab4587d-2720-421c-b2e4-85aab8952c23",
   "metadata": {},
   "outputs": [
    {
     "name": "stdout",
     "output_type": "stream",
     "text": [
      "[황민주 보안에세이] 시간의 숙성과 지능형 지속공격의 관계\n",
      "[보.알.남] 나쁜 인공지능 만들기, 데이터 포이즈닝\n",
      "[한국정보보호학회 칼럼] 융합산업과 IoBE(Internet of Blend...\n",
      "MS 익스체인지에서 제로데이 발표되자 5분 만에 스캔 시작한 해커들\n",
      "RSA 컨퍼런스에서 발표한 솔라윈즈 CEO, “보안은 공동의 책임”\n",
      "==================================================\n",
      "[황민주 보안에세이] 시간의 숙성과 지능형 지속공격의 관계\n",
      "[보.알.남] 나쁜 인공지능 만들기, 데이터 포이즈닝\n",
      "[한국정보보호학회 칼럼] 융합산업과 IoBE(Internet of Blend...\n",
      "MS 익스체인지에서 제로데이 발표되자 5분 만에 스캔 시작한 해커들\n",
      "RSA 컨퍼런스에서 발표한 솔라윈즈 CEO, “보안은 공동의 책임”\n"
     ]
    }
   ],
   "source": [
    "\n",
    "import requests\n",
    "import bs4\n",
    "\n",
    "url = \"https://www.boannews.com/Default.asp\"\n",
    "response = requests.get(url)\n",
    "\n",
    "soup = bs4.BeautifulSoup(response.text, 'html.parser')  \n",
    "soup\n",
    "\n",
    "# 방법1\n",
    "for tmp in soup.find_all('div', {\"id\": \"headline3\"}):\n",
    "    for tmp1 in tmp.find_all('li'):\n",
    "        for tmp2 in tmp1.find_all('p'):\n",
    "            print(tmp2.text)\n",
    "    print(\"=\" * 50)\n",
    "\n",
    "# 방법2 -> html에서 이 방법이 더 간편\n",
    "for tmp in soup.select(\"#headline3 > ul > li > p\"):\n",
    "    print(tmp.text)\n"
   ]
  },
  {
   "cell_type": "code",
   "execution_count": 162,
   "id": "37290cba-2610-48dc-a6de-0624819e1acb",
   "metadata": {},
   "outputs": [
    {
     "name": "stdout",
     "output_type": "stream",
     "text": [
      "분노의 질주: 더 얼티메이트\n",
      "https://movie.naver.com/movie/bi/mi/basic.nhn?code=189150\n",
      "==============================\n",
      "스파이럴\n",
      "https://movie.naver.com/movie/bi/mi/basic.nhn?code=191570\n",
      "==============================\n",
      "더 스파이\n",
      "https://movie.naver.com/movie/bi/mi/basic.nhn?code=191914\n",
      "==============================\n",
      "크루즈 패밀리: 뉴 에이지\n",
      "https://movie.naver.com/movie/bi/mi/basic.nhn?code=107992\n",
      "==============================\n",
      "극장판 귀멸의 칼날: 무한열차편\n",
      "https://movie.naver.com/movie/bi/mi/basic.nhn?code=196051\n",
      "==============================\n",
      "['https://movie.naver.com/movie/bi/mi/basic.nhn?code=189150', 'https://movie.naver.com/movie/bi/mi/basic.nhn?code=191570', 'https://movie.naver.com/movie/bi/mi/basic.nhn?code=191914', 'https://movie.naver.com/movie/bi/mi/basic.nhn?code=107992', 'https://movie.naver.com/movie/bi/mi/basic.nhn?code=196051']\n"
     ]
    }
   ],
   "source": [
    "import requests\n",
    "import bs4\n",
    "\n",
    "url = \"https://movie.naver.com/movie/sdb/rank/rmovie.nhn?sel=cnt&date=20210520\"\n",
    "response = requests.get(url)\n",
    "\n",
    "soup = bs4.BeautifulSoup(response.text, 'html.parser')  \n",
    "soup\n",
    "\n",
    "urls = []\n",
    "for tmp in soup.select(\"#old_content > table > tbody\"):\n",
    "        for tmp1 in tmp.find_all(\"a\", limit=5):\n",
    "            print(tmp1.text)\n",
    "            \n",
    "            print(\"https://movie.naver.com\" + tmp1.attrs.get(\"href\"))\n",
    "            print(\"=\" * 30)\n",
    "            \n",
    "            for i in range(50):\n",
    "                urls.append(\"https://movie.naver.com\" + tmp1.attrs.get(\"href\"))\n",
    "                if( j>= 5) :\n",
    "                    break;\n",
    "print(urls)\n",
    "\n"
   ]
  },
  {
   "cell_type": "code",
   "execution_count": 199,
   "id": "147b1961-805c-4d4f-810d-e7fd46a9fe10",
   "metadata": {},
   "outputs": [
    {
     "name": "stdout",
     "output_type": "stream",
     "text": [
      "https://movie.naver.com/movie/bi/mi/basic.nhn?code=189150\n",
      "분노의 질주: 더 얼티메이트\n",
      "관람등급: 12세 관람가\n",
      "관객평점: 관람객 평점 9.21점\n",
      "장르 : 액션\n",
      "상영시간: 142분 \n",
      "개봉일 : 2021.05.19\n",
      "감독: 저스틴 린\n",
      "출연배우 : 빈 디젤(도미닉 토레토), 존 시나(제이콥 토레토), 성 강(한)\n",
      "https://movie.naver.com/movie/bi/mi/basic.nhn?code=191570\n",
      "스파이럴\n",
      "관람등급: 청소년 관람불가\n",
      "관객평점: 관람객 평점 8.06점\n",
      "장르 : 스릴러\n",
      "상영시간: 93분 \n",
      "개봉일 : 2021.05.12\n",
      "감독: 대런 린 보우즈만\n",
      "출연배우 : 크리스 록, 사무엘 L. 잭슨, 마리솔 니콜스\n",
      "https://movie.naver.com/movie/bi/mi/basic.nhn?code=191914\n",
      "더 스파이\n",
      "관람등급: 15세 관람가\n",
      "관람등급: PG-13\n",
      "관람등급: 도움말\n",
      "관객평점: 관람객 평점 8.78점\n",
      "장르 : 스릴러\n",
      "상영시간: 112분 \n",
      "개봉일 : 2021.04.28\n",
      "감독: 도미닉 쿡\n",
      "출연배우 : 베네딕트 컴버배치(그레빌 윈)\n",
      "https://movie.naver.com/movie/bi/mi/basic.nhn?code=107992\n",
      "크루즈 패밀리: 뉴 에이지\n",
      "관람등급: 전체 관람가\n",
      "관객평점: 관람객 평점 9.37점\n",
      "장르 : 애니메이션\n",
      "장르 : 모험\n",
      "장르 : 코미디\n",
      "상영시간: 95분 \n",
      "개봉일 : 2021.05.05\n",
      "감독: 조엘 크로포드\n",
      "출연배우 : 엠마 스톤(이프 목소리), 라이언 레이놀즈(가이 목소리), 켈리 마리 트란(던 목소리)\n",
      "https://movie.naver.com/movie/bi/mi/basic.nhn?code=196051\n",
      "극장판 귀멸의 칼날: 무한열차편\n",
      "관람등급: 15세 관람가\n",
      "관객평점: 관람객 평점 9.62점\n",
      "장르 : 애니메이션\n",
      "상영시간: 117분 \n",
      "개봉일 : 2021.01.27\n",
      "감독: 소토자키 하루오\n",
      "출연배우 : 하나에 나츠키(카마도 탄지로 목소리), 키토 아카리(카마도 네즈코 목소리)\n"
     ]
    }
   ],
   "source": [
    "import requests\n",
    "import bs4\n",
    "\n",
    "\n",
    "for i in range(0, 5, 1): #위에서 수집한 링크를 반복\n",
    "    response = requests.get(urls[i])\n",
    "\n",
    "    soup = bs4.BeautifulSoup(response.text, 'html.parser') \n",
    "    \n",
    "    \n",
    "    print(urls[i])\n",
    "    for tmp in soup.select(\"#content > div.article > div.mv_info_area > div.mv_info > h3 > a:nth-child(1)\"):\n",
    "        print(tmp.text)\n",
    "    for tmp in soup.select(\"#content > div.article > div.mv_info_area > div.mv_info > dl > dd:nth-child(8) > p > a\"):\n",
    "        print(\"관람등급: \" + tmp.text)\n",
    "    for tmp in soup.select(\"#actualPointPersentBasic > div > span > span\"):\n",
    "        print(\"관객평점: \" + tmp.text)\n",
    "    for tmp in soup.select(\"#content > div.article > div.mv_info_area > div.mv_info > dl > dd:nth-child(2) > p > span:nth-child(1) > a\"):\n",
    "        print(\"장르 : \" + tmp.text)\n",
    "    for tmp in soup.select(\"#content > div.article > div.mv_info_area > div.mv_info > dl > dd:nth-child(2) > p > span:nth-child(3)\"):\n",
    "        print(\"상영시간: \" + tmp.text)    \n",
    "    for tmp in soup.select(\"#content > div.article > div.mv_info_area > div.mv_info > dl > dd:nth-child(2) > p > span:nth-child(4) > a:nth-child(1)\"):\n",
    "        for tmp1 in soup.select(\"#content > div.article > div.mv_info_area > div.mv_info > dl > dd:nth-child(2) > p > span:nth-child(4) > a:nth-child(2)\"):\n",
    "            print(\"개봉일 : \" + tmp.text.strip() + tmp1.text)\n",
    "    for tmp in soup.select(\"#content > div.article > div.mv_info_area > div.mv_info > dl > dd:nth-child(4)\"):\n",
    "        print(\"감독: \" + tmp.text)\n",
    "    for tmp in soup.select(\"#content > div.article > div.mv_info_area > div.mv_info > dl > dd:nth-child(6) > p\"):\n",
    "        print(\"출연배우 : \" + tmp.text)"
   ]
  },
  {
   "cell_type": "code",
   "execution_count": null,
   "id": "38e5a77e-ae5b-48b3-afce-bd13a868101c",
   "metadata": {},
   "outputs": [],
   "source": []
  }
 ],
 "metadata": {
  "kernelspec": {
   "display_name": "Python 3",
   "language": "python",
   "name": "python3"
  },
  "language_info": {
   "codemirror_mode": {
    "name": "ipython",
    "version": 3
   },
   "file_extension": ".py",
   "mimetype": "text/x-python",
   "name": "python",
   "nbconvert_exporter": "python",
   "pygments_lexer": "ipython3",
   "version": "3.8.8"
  }
 },
 "nbformat": 4,
 "nbformat_minor": 5
}
