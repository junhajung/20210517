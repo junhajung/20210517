{
 "cells": [
  {
   "cell_type": "code",
   "execution_count": 9,
   "id": "cf6e84fc-ad18-4c85-a1f4-715da3068650",
   "metadata": {},
   "outputs": [
    {
     "name": "stdout",
     "output_type": "stream",
     "text": [
      "[1, 3, 4, 5]\n",
      "{'name': '가나다', 'age': 34}\n",
      "(1, 2, 4, 7, 9)\n",
      "{1, 2, 3}\n",
      "\n",
      "1 3 4 5 \n",
      "name:가나다 age:34 "
     ]
    }
   ],
   "source": [
    "a = [1, 3, 4, 5] # list = 배열\n",
    "b = {\"name\":\"가나다\", \"age\" : 34} #dictionary = JSON HashMap<Key, Value>\n",
    "c = (1, 2, 4, 7, 9) #tuple = 배열 (값 변경 x)\n",
    "d = {1, 2, 2, 3} # set(집합) 중복제거\n",
    "\n",
    "print(a)\n",
    "print(b)\n",
    "print(c)\n",
    "print(d)\n",
    "\n",
    "print()\n",
    "for i in a : #list, set, tuple\n",
    "    print(i, end=\" \")\n",
    "print()\n",
    "for k,v in b.items() : #dictionary\n",
    "    print(f'{k}:{v}', end=\" \")"
   ]
  }
 ],
 "metadata": {
  "kernelspec": {
   "display_name": "Python 3",
   "language": "python",
   "name": "python3"
  },
  "language_info": {
   "codemirror_mode": {
    "name": "ipython",
    "version": 3
   },
   "file_extension": ".py",
   "mimetype": "text/x-python",
   "name": "python",
   "nbconvert_exporter": "python",
   "pygments_lexer": "ipython3",
   "version": "3.8.8"
  }
 },
 "nbformat": 4,
 "nbformat_minor": 5
}
