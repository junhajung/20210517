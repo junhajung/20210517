{
 "cells": [
  {
   "cell_type": "code",
   "execution_count": 10,
   "id": "3be99ca7-13f4-4449-a2cd-f8ba51e8045e",
   "metadata": {},
   "outputs": [
    {
     "name": "stdout",
     "output_type": "stream",
     "text": [
      "한글만 있음\n",
      "(0, 4) 홍가가가\n"
     ]
    }
   ],
   "source": [
    "# 정규식\n",
    "import re\n",
    "\n",
    "# 한글인지 확인\n",
    "name = \"홍가가가\"\n",
    "\n",
    "# ^시작, $종료, + n 개, {최소개수, 최대개수}\n",
    "# b = re.match('^[가-힣]+$', name)\n",
    "b = re.match('^[가-힣]{2,5}$', name)\n",
    "\n",
    "if b != None:\n",
    "    print(\"한글만 있음\")\n",
    "    print(b.span(), b.group()) # 매칭하는 범위\n",
    "else:\n",
    "    print(\"한글이외 내용 있음\")"
   ]
  },
  {
   "cell_type": "code",
   "execution_count": 14,
   "id": "ec243253-61a0-4b62-bcf9-10b2dcd492dc",
   "metadata": {},
   "outputs": [
    {
     "name": "stdout",
     "output_type": "stream",
     "text": [
      "이메일 X\n"
     ]
    }
   ],
   "source": [
    "import re\n",
    "# a243@naver.com\n",
    "\n",
    "email = \"a243@@naver.com\"\n",
    "\n",
    "# \\@ -> 반드시 @ 한 개 나와야 한다\n",
    "# \\. -> 반드시 . 한 개 나와야 한다.\n",
    "b = re.match('^[a-zA-Z0-9+-.]+\\@[a-zA-Z0-9+-.]+\\.[a-zA-Z0-9+-_.]+$', email)\n",
    "\n",
    "if b != None:\n",
    "    print(\"이메일 형식 일치\")\n",
    "else:\n",
    "    print(\"이메일 X\")"
   ]
  },
  {
   "cell_type": "code",
   "execution_count": 18,
   "id": "55ff24b3-7973-4e07-9f29-3e6432b59ef4",
   "metadata": {},
   "outputs": [
    {
     "name": "stdout",
     "output_type": "stream",
     "text": [
      "휴대폰 형식 일치\n"
     ]
    }
   ],
   "source": [
    "import re\n",
    "\n",
    "tel = \"010-0000-0000\"\n",
    "\n",
    "# 123 667\n",
    "# ^[  ( [1-3]{3} | [6-9]{3}) ]\n",
    "\n",
    "b = re.match('^[0-9]{3}\\-[0-9]{4}\\-[0-9]{4}$', tel)\n",
    "\n",
    "if b != None:\n",
    "    print(\"휴대폰 형식 일치\")\n",
    "else:\n",
    "    print(\"휴대폰 X\")"
   ]
  },
  {
   "cell_type": "code",
   "execution_count": null,
   "id": "e860b6f1-a580-4c49-9cc7-5eb5e5f6c61d",
   "metadata": {},
   "outputs": [],
   "source": []
  }
 ],
 "metadata": {
  "kernelspec": {
   "display_name": "Python 3",
   "language": "python",
   "name": "python3"
  },
  "language_info": {
   "codemirror_mode": {
    "name": "ipython",
    "version": 3
   },
   "file_extension": ".py",
   "mimetype": "text/x-python",
   "name": "python",
   "nbconvert_exporter": "python",
   "pygments_lexer": "ipython3",
   "version": "3.8.8"
  }
 },
 "nbformat": 4,
 "nbformat_minor": 5
}
