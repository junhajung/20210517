{
 "cells": [
  {
   "cell_type": "code",
   "execution_count": 2,
   "id": "b2214e5d-a2cd-4919-9b49-039ba180a4ed",
   "metadata": {},
   "outputs": [
    {
     "name": "stdout",
     "output_type": "stream",
     "text": [
      "Requirement already satisfied: pymongo in c:\\users\\piwjs\\anaconda3\\lib\\site-packages (3.11.4)\n"
     ]
    }
   ],
   "source": [
    "# mongodb를 사용하기 위한 라이브러리\n",
    "! pip install pymongo"
   ]
  },
  {
   "cell_type": "code",
   "execution_count": 1,
   "id": "b3a75880-3f01-4810-b098-4ecbc4d72d1f",
   "metadata": {},
   "outputs": [],
   "source": [
    "import pymongo\n",
    "\n",
    "username = \"id124\"\n",
    "password = \"pw124\"\n",
    "host = \"1.234.5.158\"\n",
    "port = 37017\n",
    "dbname = \"id124\"\n",
    "\n",
    "# mongodb 접속\n",
    "# conn = pymongo.MongoClient(f\"mongodb://{host}:{port}\") \n",
    "conn= pymongo.MongoClient(f'mongodb://{username}:{password}@{host}:{port}/{dbname}')\n",
    "\n",
    "db = conn.get_database(dbname) #db선택\n",
    "\n",
    "collection = db.get_collection(\"member\") #collection == table과 비슷함\n",
    "dic1 = {\"id\":\"pyid\", \"pw\":\"aaa\",\"name\":'abc', \"age\":33} #딕셔너리 타입으로 생성\n",
    "collection.insert_one(dic1) # mongodb에 추가\n",
    "\n",
    "conn.close()    \n"
   ]
  },
  {
   "cell_type": "code",
   "execution_count": 8,
   "id": "f7bd80ed-9bca-4e75-9479-4f59ac4ae35e",
   "metadata": {},
   "outputs": [
    {
     "data": {
      "text/html": [
       "<div>\n",
       "<style scoped>\n",
       "    .dataframe tbody tr th:only-of-type {\n",
       "        vertical-align: middle;\n",
       "    }\n",
       "\n",
       "    .dataframe tbody tr th {\n",
       "        vertical-align: top;\n",
       "    }\n",
       "\n",
       "    .dataframe thead th {\n",
       "        text-align: right;\n",
       "    }\n",
       "</style>\n",
       "<table border=\"1\" class=\"dataframe\">\n",
       "  <thead>\n",
       "    <tr style=\"text-align: right;\">\n",
       "      <th></th>\n",
       "      <th>id</th>\n",
       "      <th>name</th>\n",
       "      <th>age</th>\n",
       "    </tr>\n",
       "  </thead>\n",
       "  <tbody>\n",
       "    <tr>\n",
       "      <th>7</th>\n",
       "      <td>aaa</td>\n",
       "      <td>다라마</td>\n",
       "      <td>42</td>\n",
       "    </tr>\n",
       "    <tr>\n",
       "      <th>8</th>\n",
       "      <td>aaa</td>\n",
       "      <td>가나다</td>\n",
       "      <td>12</td>\n",
       "    </tr>\n",
       "    <tr>\n",
       "      <th>9</th>\n",
       "      <td>aaa</td>\n",
       "      <td>가다라</td>\n",
       "      <td>22</td>\n",
       "    </tr>\n",
       "    <tr>\n",
       "      <th>10</th>\n",
       "      <td>aaa</td>\n",
       "      <td>다라마</td>\n",
       "      <td>32</td>\n",
       "    </tr>\n",
       "    <tr>\n",
       "      <th>11</th>\n",
       "      <td>aaa</td>\n",
       "      <td>다라마</td>\n",
       "      <td>42</td>\n",
       "    </tr>\n",
       "  </tbody>\n",
       "</table>\n",
       "</div>"
      ],
      "text/plain": [
       "     id name  age\n",
       "7   aaa  다라마   42\n",
       "8   aaa  가나다   12\n",
       "9   aaa  가다라   22\n",
       "10  aaa  다라마   32\n",
       "11  aaa  다라마   42"
      ]
     },
     "execution_count": 8,
     "metadata": {},
     "output_type": "execute_result"
    }
   ],
   "source": [
    "import pymongo\n",
    "import pandas as pd\n",
    "\n",
    "try:\n",
    "    username = \"id124\"\n",
    "    password = \"pw124\"\n",
    "    host = \"1.234.5.158\"\n",
    "    port = 37017\n",
    "    dbname = \"id124\"\n",
    "    \n",
    "    # mongodb접속\n",
    "    conn = pymongo.MongoClient(f'mongodb://{username}:{password}@{host}:{port}/{dbname}')\n",
    "    db = conn.get_database(dbname)\n",
    "    collection = db.get_collection(\"ex1_20210520\") \n",
    "    \n",
    "    data = collection.find({}, {'_id':0}) # _id는 제외하고 가져와라.\n",
    "    df = pd.DataFrame(data)\n",
    "    \n",
    "except Exception as e:\n",
    "    print(e)\n",
    "finally:\n",
    "    conn.close()\n",
    "\n",
    "df.head() # 앞쪽에서 5개만 출력\n",
    "df.tail() # 뒤쪽에서 5개만 출력\n",
    "        "
   ]
  },
  {
   "cell_type": "code",
   "execution_count": 12,
   "id": "abad8ba3-b8c5-4335-8934-704766f0106d",
   "metadata": {},
   "outputs": [
    {
     "data": {
      "text/plain": [
       "[{'key': 'aaa', 'value': 1},\n",
       " {'key': 'bbb', 'value': 2},\n",
       " {'key': 'ccc', 'value': 3}]"
      ]
     },
     "execution_count": 12,
     "metadata": {},
     "output_type": "execute_result"
    }
   ],
   "source": [
    "import pandas as pd\n",
    "\n",
    "# 수집한 데이터 [ {}, {}, {} ] => mongodb, hadoop\n",
    "data = [{\"key\" : \"aaa\", \"value\" : 1}, {\"key\" : \"bbb\", \"value\" : 2}, {\"key\" : \"ccc\", \"value\" : 3}]\n",
    "\n",
    "# 데이터 전처리 => 작업했음\n",
    "df = pd.DataFrame(data)\n",
    "df\n",
    "\n",
    "# dataframe을 dictionary로 변환\n",
    "data1 = df.to_dict(orient = 'records')\n",
    "data1"
   ]
  },
  {
   "cell_type": "code",
   "execution_count": 13,
   "id": "0b53011a-e801-4cf3-8366-f5fd209f7da3",
   "metadata": {},
   "outputs": [],
   "source": [
    "import pymongo\n",
    "import pandas as pd\n",
    "\n",
    "try:\n",
    "    username = \"id124\"\n",
    "    password = \"pw124\"\n",
    "    host = \"1.234.5.158\"\n",
    "    port = 37017\n",
    "    dbname = \"id124\"\n",
    "    \n",
    "    # mongodb접속\n",
    "    conn = pymongo.MongoClient(f'mongodb://{username}:{password}@{host}:{port}/{dbname}')\n",
    "    db = conn.get_database(dbname)\n",
    "    collection = db.get_collection(\"ex1_20210526\") \n",
    "    \n",
    "    collection.insert_many(data1)\n",
    "    \n",
    "except Exception as e:\n",
    "    print(e)\n",
    "finally:\n",
    "    conn.close()"
   ]
  },
  {
   "cell_type": "code",
   "execution_count": 19,
   "id": "ca8d4077-26eb-4d2c-86d2-98ec62c1f49d",
   "metadata": {},
   "outputs": [
    {
     "name": "stdout",
     "output_type": "stream",
     "text": [
      "['https://shop2.daumcdn.net/thumb/R250x250/?fname=https%3A%2F%2Fshop2.daumcdn.net%2Fshophow%2Fp%2FK13027911753.jpg%3Fut%3D20210423163707', 'https://shop1.daumcdn.net/thumb/R250x250/?fname=https%3A%2F%2Fshop1.daumcdn.net%2Fshophow%2Fp%2FA5093002126.jpg%3Fut%3D20210503050522', 'https://shop1.daumcdn.net/thumb/R250x250/?fname=https%3A%2F%2Fshop1.daumcdn.net%2Fshophow%2Fp%2FA4640578494.jpg%3Fut%3D20180403145101']\n"
     ]
    }
   ],
   "source": [
    "\n",
    "from selenium import webdriver  # pip install selenium\n",
    "import bs4 # pip install bs4\n",
    "import time\n",
    "import urllib.request as REQ  #서버 요청\n",
    "\n",
    "url = \"https://shoppinghow.kakao.com/top\"\n",
    "\n",
    "# 옵션설정\n",
    "options = webdriver.ChromeOptions()\n",
    "options.add_argument(\"disable-gpu\")   \n",
    "options.add_argument(\"lang=ko_KR\")  \n",
    "# options.add_argument(\"headless\")  # 크롬창이 표시되지 않음\n",
    "options.add_argument('user-agent=Mozilla/5.0 (Macintosh; Intel Mac OS X 10_12_6) AppleWebKit/537.36 (KHTML, like Gecko) Chrome/61.0.3163.100 Safari/537.36')  # user-agent \n",
    "\n",
    "# 드라이브 로딩\n",
    "driver = webdriver.Chrome(executable_path=\"driver/chromedriver.exe\", options=options)\n",
    "\n",
    "# 페이지 접속\n",
    "driver.get(url)\n",
    "\n",
    "# 로딩되는 시간이 있으므로 1초 기다림\n",
    "time.sleep(1)\n",
    "\n",
    "data4 = []\n",
    "for i in range(1,4,1):\n",
    "    img = driver.find_element_by_xpath(f'//*[@id=\"topRecomKeywordWrap\"]/div[2]/ul/li[{i}]/a/img')\n",
    "    data4.append(img.get_attribute(\"src\"))\n",
    "    \n",
    "#     REQ.urlretrieve(img.get_attribute(\"src\"), f'download/abc_{i}.jpg')\n",
    "    \n",
    "print(data4)\n",
    "driver.close()"
   ]
  },
  {
   "cell_type": "code",
   "execution_count": null,
   "id": "ebedd8bb-04ea-4fb5-bfbe-fa95a62f4cb2",
   "metadata": {},
   "outputs": [],
   "source": []
  }
 ],
 "metadata": {
  "kernelspec": {
   "display_name": "Python 3",
   "language": "python",
   "name": "python3"
  },
  "language_info": {
   "codemirror_mode": {
    "name": "ipython",
    "version": 3
   },
   "file_extension": ".py",
   "mimetype": "text/x-python",
   "name": "python",
   "nbconvert_exporter": "python",
   "pygments_lexer": "ipython3",
   "version": "3.8.8"
  }
 },
 "nbformat": 4,
 "nbformat_minor": 5
}
