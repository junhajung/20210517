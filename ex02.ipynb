{
 "cells": [
  {
   "cell_type": "code",
   "execution_count": 10,
   "id": "cf6e84fc-ad18-4c85-a1f4-715da3068650",
   "metadata": {},
   "outputs": [
    {
     "name": "stdout",
     "output_type": "stream",
     "text": [
      "[1, 3, 4, 5]\n",
      "{'name': '가나다', 'age': 34}\n",
      "(1, 2, 4, 7, 9)\n",
      "{1, 2, 3}\n",
      "\n",
      "1 3 4 5 \n",
      "name:가나다 age:34 "
     ]
    }
   ],
   "source": [
    "a = [1, 3, 4, 5] # list = 배열\n",
    "b = {\"name\":\"가나다\", \"age\" : 34} #dictionary = JSON HashMap<Key, Value>\n",
    "c = (1, 2, 4, 7, 9) #tuple = 배열 (값 변경 x)\n",
    "d = {1, 2, 2, 3} # set(집합) 중복제거\n",
    "\n",
    "print(a)\n",
    "print(b)\n",
    "print(c)\n",
    "print(d)\n",
    "\n",
    "print()\n",
    "for i in a : #list, set, tuple\n",
    "    print(i, end=\" \")\n",
    "print()\n",
    "for k,v in b.items() : #dictionary\n",
    "    print(f'{k}:{v}', end=\" \")"
   ]
  },
  {
   "cell_type": "code",
   "execution_count": 13,
   "id": "18437de3-7a23-4490-8d2d-ff492de8df36",
   "metadata": {},
   "outputs": [
    {
     "name": "stdout",
     "output_type": "stream",
     "text": [
      "<class 'list'>\n",
      "<class 'tuple'>\n"
     ]
    }
   ],
   "source": [
    "a = [(1,2,3), (4,5,6), (7,8,9), (10,11,12)]\n",
    "print(type(a))\n",
    "print(type(a[0]))\n"
   ]
  },
  {
   "cell_type": "code",
   "execution_count": 27,
   "id": "dc1c84f4-7e22-4fb6-a06b-5e74c3ecc6ba",
   "metadata": {},
   "outputs": [
    {
     "name": "stdout",
     "output_type": "stream",
     "text": [
      "<class 'dict'>\n",
      "가\n"
     ]
    }
   ],
   "source": [
    "a = {\"data\":\"ab\", \"member\":[{\"name\":\"가\", \"age\":4}, {\"name\":\"가1\", \"age\":41}]}\n",
    "print(type(a))\n",
    "# print(type(a[0]))\n",
    "\n",
    "# print(a[1][\"age\"])\n",
    "\n",
    "print(a[\"member\"][0][\"name\"])\n"
   ]
  },
  {
   "cell_type": "code",
   "execution_count": null,
   "id": "1dcee598-b8e8-4d73-a460-674e23163e7c",
   "metadata": {},
   "outputs": [],
   "source": []
  }
 ],
 "metadata": {
  "kernelspec": {
   "display_name": "Python 3",
   "language": "python",
   "name": "python3"
  },
  "language_info": {
   "codemirror_mode": {
    "name": "ipython",
    "version": 3
   },
   "file_extension": ".py",
   "mimetype": "text/x-python",
   "name": "python",
   "nbconvert_exporter": "python",
   "pygments_lexer": "ipython3",
   "version": "3.8.8"
  }
 },
 "nbformat": 4,
 "nbformat_minor": 5
}
