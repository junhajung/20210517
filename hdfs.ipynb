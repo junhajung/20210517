{
 "cells": [
  {
   "cell_type": "code",
   "execution_count": 2,
   "id": "bd718dcf-2964-4444-9e58-4ebca6689d14",
   "metadata": {},
   "outputs": [
    {
     "name": "stdout",
     "output_type": "stream",
     "text": [
      "Requirement already satisfied: hdfs in c:\\users\\piwjs\\anaconda3\\lib\\site-packages (2.6.0)\n",
      "Requirement already satisfied: six>=1.9.0 in c:\\users\\piwjs\\anaconda3\\lib\\site-packages (from hdfs) (1.15.0)\n",
      "Requirement already satisfied: docopt in c:\\users\\piwjs\\anaconda3\\lib\\site-packages (from hdfs) (0.6.2)\n",
      "Requirement already satisfied: requests>=2.7.0 in c:\\users\\piwjs\\anaconda3\\lib\\site-packages (from hdfs) (2.25.1)\n",
      "Requirement already satisfied: chardet<5,>=3.0.2 in c:\\users\\piwjs\\anaconda3\\lib\\site-packages (from requests>=2.7.0->hdfs) (4.0.0)\n",
      "Requirement already satisfied: idna<3,>=2.5 in c:\\users\\piwjs\\anaconda3\\lib\\site-packages (from requests>=2.7.0->hdfs) (2.10)\n",
      "Requirement already satisfied: urllib3<1.27,>=1.21.1 in c:\\users\\piwjs\\anaconda3\\lib\\site-packages (from requests>=2.7.0->hdfs) (1.26.4)\n",
      "Requirement already satisfied: certifi>=2017.4.17 in c:\\users\\piwjs\\anaconda3\\lib\\site-packages (from requests>=2.7.0->hdfs) (2020.12.5)\n"
     ]
    }
   ],
   "source": [
    "!pip install hdfs"
   ]
  },
  {
   "cell_type": "code",
   "execution_count": 5,
   "id": "90f8fab3-4451-455d-9a83-ff0871a7b9c0",
   "metadata": {},
   "outputs": [],
   "source": [
    "import hdfs #1\n",
    "# from hdfs import InsecureClient  #2\n",
    "import json\n",
    "\n",
    "# 1. hdfs web으로 접속 (9870 , 9864, 9000, 9866)\n",
    "client_hdfs = hdfs.InsecureClient('http://1.234.5.158:9870', user='hdfs') #1\n",
    "# InsecureClient() #2\n",
    "\n",
    "# 2. 수집한 자료\n",
    "data = [{\"name\" : \"가1\", \"wieght\":1, \"height\":2}, {\"name\" : \"가1\", \"wieght\":1, \"height\":2}]\n",
    "\n",
    "# 3. 저장하기\n",
    "# with는 자원을 획득하고 사용 후 반납해야 하는 경우에 사용\n",
    "with client_hdfs.write('/id124/ex_20210525.json', encoding=\"utf-8\") as writer:\n",
    "    json.dump(data, writer)\n",
    "\n",
    "    \n",
    "# 삭제\n",
    "# client_hdfs.delete('/id124/ex_20210525.json')"
   ]
  },
  {
   "cell_type": "code",
   "execution_count": 7,
   "id": "588309ce-7612-47e8-b532-d8766d8dc989",
   "metadata": {},
   "outputs": [
    {
     "name": "stdout",
     "output_type": "stream",
     "text": [
      "['ex_20210525.json']\n"
     ]
    },
    {
     "data": {
      "text/html": [
       "<div>\n",
       "<style scoped>\n",
       "    .dataframe tbody tr th:only-of-type {\n",
       "        vertical-align: middle;\n",
       "    }\n",
       "\n",
       "    .dataframe tbody tr th {\n",
       "        vertical-align: top;\n",
       "    }\n",
       "\n",
       "    .dataframe thead th {\n",
       "        text-align: right;\n",
       "    }\n",
       "</style>\n",
       "<table border=\"1\" class=\"dataframe\">\n",
       "  <thead>\n",
       "    <tr style=\"text-align: right;\">\n",
       "      <th></th>\n",
       "      <th>name</th>\n",
       "      <th>wieght</th>\n",
       "      <th>height</th>\n",
       "    </tr>\n",
       "  </thead>\n",
       "  <tbody>\n",
       "    <tr>\n",
       "      <th>0</th>\n",
       "      <td>가1</td>\n",
       "      <td>1</td>\n",
       "      <td>2</td>\n",
       "    </tr>\n",
       "    <tr>\n",
       "      <th>1</th>\n",
       "      <td>가1</td>\n",
       "      <td>1</td>\n",
       "      <td>2</td>\n",
       "    </tr>\n",
       "  </tbody>\n",
       "</table>\n",
       "</div>"
      ],
      "text/plain": [
       "  name  wieght  height\n",
       "0   가1       1       2\n",
       "1   가1       1       2"
      ]
     },
     "execution_count": 7,
     "metadata": {},
     "output_type": "execute_result"
    }
   ],
   "source": [
    "from hdfs import InsecureClient\n",
    "import pandas as pd # 데이터 분석시에 필요. (데이터 프레임 형식)\n",
    "\n",
    "client_hdfs = InsecureClient('http://1.234.5.158:9870', user = 'hdfs')\n",
    "\n",
    "# 파일 목록 확인\n",
    "print(client_hdfs.list('/id124'))\n",
    "\n",
    "# 파일 내용 읽기\n",
    "with client_hdfs.read('/id124/ex_20210525.json', encoding=\"utf-8\") as reader:\n",
    "    df = pd.read_json(reader)\n",
    "df.loc[:, ['name']]\n",
    "df\n",
    "#     for tmp in reader:\n",
    "#         print(tmp)"
   ]
  },
  {
   "cell_type": "code",
   "execution_count": 8,
   "id": "d61843ca-5633-44e3-ba11-b7d683cb1cf8",
   "metadata": {},
   "outputs": [
    {
     "name": "stdout",
     "output_type": "stream",
     "text": [
      "Collecting selenium\n",
      "  Downloading selenium-3.141.0-py2.py3-none-any.whl (904 kB)\n",
      "Requirement already satisfied: urllib3 in c:\\users\\piwjs\\anaconda3\\lib\\site-packages (from selenium) (1.26.4)\n",
      "Installing collected packages: selenium\n",
      "Successfully installed selenium-3.141.0\n"
     ]
    }
   ],
   "source": [
    "! pip install selenium"
   ]
  },
  {
   "cell_type": "code",
   "execution_count": 3,
   "id": "cc7c828f-bee0-40ed-bfeb-1a9d20382ed2",
   "metadata": {},
   "outputs": [
    {
     "name": "stdout",
     "output_type": "stream",
     "text": [
      "['1원피스', '2써스데이아일랜드원피스', '3남자반팔티', '4블라우스', '5나이키바람막이', '6반바지', '7롱원피스', '8여성린넨자켓', '9바람막이', '10쥬시쥬디', '11메종키츠네반팔', '12여성점프수트', '13케네스레이디원피스', '14지컷원피스', '15폴로반팔티', '16잠옷', '17써스데이아일랜드', '18나이키반팔티', '19뷔스티에원피스', '20팬츠']\n"
     ]
    }
   ],
   "source": [
    "from selenium import webdriver\n",
    "from selenium.webdriver.chrome.options import Options\n",
    "import bs4 # pip install bs4\n",
    "import time\n",
    "import hdfs\n",
    "import json\n",
    "\n",
    "url = \"https://datalab.naver.com/shoppingInsight/sCategory.naver\"\n",
    "\n",
    "options = webdriver.ChromeOptions()\n",
    "options.add_argument(\"disable-gpu\")   \n",
    "options.add_argument(\"lang=ko_KR\")    \n",
    "options.add_argument('user-agent=Mozilla/5.0 (Macintosh; Intel Mac OS X 10_12_6) AppleWebKit/537.36 (KHTML, like Gecko) Chrome/61.0.3163.100 Safari/537.36')  # user-agent \n",
    "\n",
    "\n",
    "driver = webdriver.Chrome(executable_path=\"driver/chromedriver.exe\", options = options)\n",
    "driver.get(url)\n",
    "\n",
    "time.sleep(1) # 너무 빨리 받아와서 안받아지므로 sleep 걸어주면 받아와짐.\n",
    "response = driver.page_source\n",
    "\n",
    "soup = bs4.BeautifulSoup(response, \"html.parser\")\n",
    "\n",
    "data = []\n",
    "for tmp in soup.select(\"ul.rank_top1000_list > li\"):\n",
    "    data.append(tmp.text.strip())\n",
    "\n",
    "print(data)\n",
    "    \n",
    "# 접속    \n",
    "client_hdfs = hdfs.InsecureClient('http://1.234.5.158:9870', user='hdfs') #1    \n",
    "\n",
    "# 저장하기\n",
    "with client_hdfs.write('/id124/datalab_naver_20210525.json', encoding=\"utf-8\") as writer:\n",
    "    json.dump(data, writer)\n",
    "\n",
    "driver.close()"
   ]
  },
  {
   "cell_type": "code",
   "execution_count": null,
   "id": "2d627897-97a9-4e26-90f8-8fab580cbe73",
   "metadata": {},
   "outputs": [],
   "source": []
  }
 ],
 "metadata": {
  "kernelspec": {
   "display_name": "Python 3",
   "language": "python",
   "name": "python3"
  },
  "language_info": {
   "codemirror_mode": {
    "name": "ipython",
    "version": 3
   },
   "file_extension": ".py",
   "mimetype": "text/x-python",
   "name": "python",
   "nbconvert_exporter": "python",
   "pygments_lexer": "ipython3",
   "version": "3.8.8"
  }
 },
 "nbformat": 4,
 "nbformat_minor": 5
}
