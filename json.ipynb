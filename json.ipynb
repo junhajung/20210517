{
 "cells": [
  {
   "cell_type": "code",
   "execution_count": 6,
   "id": "95f8e6f7-fea6-4040-ad53-2b1193aa12ff",
   "metadata": {},
   "outputs": [
    {
     "name": "stdout",
     "output_type": "stream",
     "text": [
      "[{\"ret\":\"y1\",\"data\":\"123\"},{\"ret\":\"y2\",\"data\":\"234\"}]\n",
      "<class 'str'>\n",
      "[{'ret': 'y1', 'data': '123'}, {'ret': 'y2', 'data': '234'}]\n",
      "<class 'list'>\n"
     ]
    }
   ],
   "source": [
    "import requests\n",
    "import json\n",
    "\n",
    "url = \"http://ihongss.com/json/exam2.json\"\n",
    "data = requests.get(url).text\n",
    "\n",
    "print(data)\n",
    "print(type(data)) #str\n",
    "\n",
    "#str -> list\n",
    "data1 = json.loads(data)\n",
    "print(data1)\n",
    "print(type(data1))\n"
   ]
  },
  {
   "cell_type": "code",
   "execution_count": 13,
   "id": "84863d75-a311-4881-8c44-37198021b112",
   "metadata": {},
   "outputs": [
    {
     "name": "stdout",
     "output_type": "stream",
     "text": [
      "{'ret': 'y1', 'data': '123'} <class 'dict'>\n",
      "{'ret': 'y2', 'data': '234'} <class 'dict'>\n"
     ]
    },
    {
     "data": {
      "text/plain": [
       "[['y1', 123], ['y2', 234]]"
      ]
     },
     "execution_count": 13,
     "metadata": {},
     "output_type": "execute_result"
    }
   ],
   "source": [
    "# [{'ret': 'y1', 'data': '123'}, {'ret': 'y2', 'data': '234'}] #원래 data\n",
    "#[['y1', 123], ['y2',234]] # 바꾸고 싶은 data\n",
    "\n",
    "data2 = []\n",
    "for i in data1:\n",
    "    print(i, type(i))\n",
    "    data2.append( [i['ret'], int(i['data'])] )\n",
    "data2\n"
   ]
  },
  {
   "cell_type": "code",
   "execution_count": 16,
   "id": "8785b5f2-86f4-4580-856c-46cdb4433878",
   "metadata": {},
   "outputs": [],
   "source": [
    "import csv\n",
    "\n",
    "# 저장위치, w, r, a, utf-8, euc-kr\n",
    "file = open('csv/20210518_1103.csv', 'w', encoding='utf-8', newline='')\n",
    "wr = csv.writer(file)\n",
    "wr.writerow(['ret', 'data']) #Column 추가\n",
    "\n",
    "for i in data2:\n",
    "    wr.writerow(i)\n",
    "    \n",
    "file.close()\n"
   ]
  },
  {
   "cell_type": "code",
   "execution_count": 20,
   "id": "7585ae7b-ab61-4b7f-b090-c176c6c8c5fb",
   "metadata": {},
   "outputs": [
    {
     "name": "stdout",
     "output_type": "stream",
     "text": [
      "['y1', '123']\n",
      "['y2', '234']\n"
     ]
    }
   ],
   "source": [
    "import csv\n",
    "\n",
    "# read\n",
    "file = open('csv/20210518_1103.csv', 'r', encoding='utf-8')\n",
    "rd = csv.reader(file)\n",
    "next(rd, None) # 한줄 skip\n",
    "\n",
    "for i in rd:\n",
    "    print(i)\n",
    "\n",
    "file.close()"
   ]
  },
  {
   "cell_type": "code",
   "execution_count": 63,
   "id": "b18dd472-535e-44fc-82e5-7cb5cb842a6c",
   "metadata": {},
   "outputs": [
    {
     "name": "stdout",
     "output_type": "stream",
     "text": [
      "y\n",
      "{'id': 'a', 'name': '가나다1', 'age': 61, 'height': 165.4, 'weight': 60.2}\n",
      "{'id': 'b', 'name': '가나다2', 'age': 32, 'height': 185.4, 'weight': 80.3}\n",
      "{'id': 'c', 'name': '가나다3', 'age': 13, 'height': 145.8, 'weight': 60.6}\n",
      "{'id': 'd', 'name': '가나다4', 'age': 44, 'height': 165.7, 'weight': 44.5}\n",
      "{'id': 'e', 'name': '가나다5', 'age': 85, 'height': 165.2, 'weight': 42.3}\n",
      "[['a', '가나다1', 61, 165.4, 60.2], ['b', '가나다2', 32, 185.4, 80.3], ['c', '가나다3', 13, 145.8, 60.6], ['d', '가나다4', 44, 165.7, 44.5], ['e', '가나다5', 85, 165.2, 42.3]]\n"
     ]
    }
   ],
   "source": [
    "import requests\n",
    "import json\n",
    "import csv\n",
    "\n",
    "url = \"http://ihongss.com/json/exam7.json\"\n",
    "data = requests.get(url).text\n",
    "data1 = json.loads(data)\n",
    "\n",
    "print(data1[\"ret\"])\n",
    "\n",
    "data2 = []\n",
    "for i in data1[\"data\"]:\n",
    "    print(i)\n",
    "    # data2.append([i.get('id'), i.get('name'), i.get('age'), i.get('height'), i.get('weight')]) # 이렇게 함수를 사용해도 가능\n",
    "    data2.append([i['id'], i['name'], i['age'], i['height'], i['weight']])\n",
    "print(data2)\n",
    "\n",
    "file = open('csv/20210518_ex01.csv', 'w', encoding='utf-8', newline='')\n",
    "wr = csv.writer(file)\n",
    "wr.writerow(['id', 'name', 'age', 'height', 'weight']) #Column 추가\n",
    "\n",
    "for i in data2:\n",
    "    wr.writerow(i)\n",
    "    \n",
    "file.close()"
   ]
  },
  {
   "cell_type": "code",
   "execution_count": 81,
   "id": "18ab0cf8-887c-4955-bb66-781a15eb20c8",
   "metadata": {},
   "outputs": [
    {
     "name": "stdout",
     "output_type": "stream",
     "text": [
      "[['1', '1', '미션임파서블:고스트프로토콜', '2011-12-15'], ['2', '2', '마이 웨이', '2011-12-21'], ['3', '3', '셜록홈즈 : 그림자 게임', '2011-12-21'], ['4', '4', '퍼펙트 게임', '2011-12-21'], ['5', '5', '프렌즈: 몬스터섬의비밀 ', '2011-12-29'], ['6', '6', '라이온 킹', '1994-07-02'], ['7', '7', '오싹한 연애', '2011-12-01'], ['8', '8', '극장판 포켓몬스터 베스트 위시「비크티니와 백의 영웅 레시라무」', '2011-12-22'], ['9', '9', '앨빈과 슈퍼밴드3', '2011-12-15'], ['10', '10', '극장판 포켓몬스터 베스트 위시 「비크티니와 흑의 영웅 제크로무」', '2011-12-22']]\n"
     ]
    }
   ],
   "source": [
    "import requests\n",
    "import json\n",
    "import csv\n",
    "\n",
    "url=\"http://ihongss.com/json/exam21.json\"\n",
    "data = requests.get(url).text\n",
    "data1 = json.loads(data)\n",
    "# print(data1)\n",
    "\n",
    "data2 = []\n",
    "for i in data1[\"boxOfficeResult\"]['dailyBoxOfficeList']:\n",
    "    data2.append([i['rnum'], i['rank'], i['movieNm'], i['openDt']])\n",
    "print(data2)\n",
    "\n",
    "    \n",
    "file = open('csv/20210518_exam21.csv', 'w', encoding='utf-8', newline='') \n",
    "wr = csv.writer(file)\n",
    "wr.writerow(['rnum', 'rank', 'moviNum', 'openDt'])\n",
    "\n",
    "for i in data2:\n",
    "    wr.writerow(i)\n",
    "    \n",
    "file.close()"
   ]
  },
  {
   "cell_type": "code",
   "execution_count": 1,
   "id": "2794d70c-b1c0-4d31-b8ff-606f7b1cf7fe",
   "metadata": {},
   "outputs": [
    {
     "name": "stdout",
     "output_type": "stream",
     "text": [
      "[{'name': 'Meowsy', 'species': 'cat', 'foods': {'likes': ['tuna', 'catnip'], 'dislikes': ['ham', 'zucchini']}}, {'name': 'Barky', 'species': 'dog', 'foods': {'likes': ['bones', 'carrots'], 'dislikes': ['tuna']}}, {'name': 'Purrpaws', 'species': 'cat', 'foods': {'likes': ['mice'], 'dislikes': ['cookies']}}]\n",
      "\n",
      "[['Meowsy', 'cat', ['tuna', 'catnip'], ['ham', 'zucchini']], ['Barky', 'dog', ['bones', 'carrots'], ['tuna']], ['Purrpaws', 'cat', ['mice'], ['cookies']]]\n"
     ]
    },
    {
     "ename": "TypeError",
     "evalue": "writerow() takes exactly one argument (4 given)",
     "output_type": "error",
     "traceback": [
      "\u001b[1;31m---------------------------------------------------------------------------\u001b[0m",
      "\u001b[1;31mTypeError\u001b[0m                                 Traceback (most recent call last)",
      "\u001b[1;32m<ipython-input-1-9e00e3561967>\u001b[0m in \u001b[0;36m<module>\u001b[1;34m\u001b[0m\n\u001b[0;32m     16\u001b[0m \u001b[0mfile\u001b[0m \u001b[1;33m=\u001b[0m \u001b[0mopen\u001b[0m\u001b[1;33m(\u001b[0m\u001b[1;34m'csv/20210518_animals.csv'\u001b[0m\u001b[1;33m,\u001b[0m \u001b[1;34m'w'\u001b[0m\u001b[1;33m,\u001b[0m \u001b[0mencoding\u001b[0m\u001b[1;33m=\u001b[0m\u001b[1;34m'utf-8'\u001b[0m\u001b[1;33m,\u001b[0m \u001b[0mnewline\u001b[0m\u001b[1;33m=\u001b[0m\u001b[1;34m''\u001b[0m\u001b[1;33m)\u001b[0m\u001b[1;33m\u001b[0m\u001b[1;33m\u001b[0m\u001b[0m\n\u001b[0;32m     17\u001b[0m \u001b[0mwr\u001b[0m \u001b[1;33m=\u001b[0m \u001b[0mcsv\u001b[0m\u001b[1;33m.\u001b[0m\u001b[0mwriter\u001b[0m\u001b[1;33m(\u001b[0m\u001b[0mfile\u001b[0m\u001b[1;33m)\u001b[0m\u001b[1;33m\u001b[0m\u001b[1;33m\u001b[0m\u001b[0m\n\u001b[1;32m---> 18\u001b[1;33m \u001b[0mwr\u001b[0m\u001b[1;33m.\u001b[0m\u001b[0mwriterow\u001b[0m\u001b[1;33m(\u001b[0m\u001b[1;33m[\u001b[0m\u001b[1;34m'name'\u001b[0m\u001b[1;33m]\u001b[0m\u001b[1;33m,\u001b[0m \u001b[1;33m[\u001b[0m\u001b[1;34m'species'\u001b[0m\u001b[1;33m]\u001b[0m\u001b[1;33m,\u001b[0m \u001b[1;33m[\u001b[0m\u001b[1;34m'food_likes'\u001b[0m\u001b[1;33m]\u001b[0m\u001b[1;33m,\u001b[0m \u001b[1;33m[\u001b[0m\u001b[1;34m'food_dislikes'\u001b[0m\u001b[1;33m]\u001b[0m\u001b[1;33m)\u001b[0m\u001b[1;33m\u001b[0m\u001b[1;33m\u001b[0m\u001b[0m\n\u001b[0m\u001b[0;32m     19\u001b[0m \u001b[1;33m\u001b[0m\u001b[0m\n\u001b[0;32m     20\u001b[0m \u001b[1;32mfor\u001b[0m \u001b[0mi\u001b[0m \u001b[1;32min\u001b[0m \u001b[0mdata2\u001b[0m\u001b[1;33m:\u001b[0m\u001b[1;33m\u001b[0m\u001b[1;33m\u001b[0m\u001b[0m\n",
      "\u001b[1;31mTypeError\u001b[0m: writerow() takes exactly one argument (4 given)"
     ]
    }
   ],
   "source": [
    "import requests\n",
    "import json\n",
    "import csv\n",
    "\n",
    "url=\"https://raw.githubusercontent.com/LearnWebCode/json-example/master/animals-1.json\"\n",
    "data = requests.get(url).text\n",
    "data1 = json.loads(data)\n",
    "print(data1)\n",
    "print()\n",
    "\n",
    "data2 = []\n",
    "for i in data1:\n",
    "    data2.append([i['name'], i['species'], i['foods']['likes'], i['foods']['dislikes']])\n",
    "print(data2)\n",
    "\n",
    "file = open('csv/20210518_animals.csv', 'w', encoding='utf-8', newline='') \n",
    "wr = csv.writer(file)\n",
    "wr.writerow(['name'], ['species'], ['food_likes'], ['food_dislikes'])\n",
    "\n",
    "for i in data2:\n",
    "    wr.writerow(i)\n",
    "\n",
    "file.close()\n"
   ]
  }
 ],
 "metadata": {
  "kernelspec": {
   "display_name": "Python 3",
   "language": "python",
   "name": "python3"
  },
  "language_info": {
   "codemirror_mode": {
    "name": "ipython",
    "version": 3
   },
   "file_extension": ".py",
   "mimetype": "text/x-python",
   "name": "python",
   "nbconvert_exporter": "python",
   "pygments_lexer": "ipython3",
   "version": "3.8.8"
  }
 },
 "nbformat": 4,
 "nbformat_minor": 5
}
