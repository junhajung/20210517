{
 "cells": [
  {
   "cell_type": "code",
   "execution_count": 2,
   "id": "3aa0387a-a44e-4bcc-b8af-de173bbba721",
   "metadata": {},
   "outputs": [
    {
     "name": "stdout",
     "output_type": "stream",
     "text": [
      "Requirement already satisfied: cx_oracle in c:\\users\\piwjs\\anaconda3\\lib\\site-packages (8.1.0)\n"
     ]
    }
   ],
   "source": [
    "# !를 치면 터미널에 치는 것과 같은 효과\n",
    "# ! dir \n",
    "\n",
    "# 1. Oracle 연동 라이브러리 설치\n",
    "! pip install cx_oracle"
   ]
  },
  {
   "cell_type": "code",
   "execution_count": 3,
   "id": "91b19888-bb34-47e2-abd9-7986b9c27388",
   "metadata": {},
   "outputs": [],
   "source": [
    "#  https://www.oracle.com/kr/database/technologies/instant-client/downloads.html\n",
    "# 2. 압축파일 다운로드 후 폴더로 이동"
   ]
  },
  {
   "cell_type": "code",
   "execution_count": 7,
   "id": "48760725-7bb7-4adb-8c68-0f28551422fc",
   "metadata": {},
   "outputs": [
    {
     "data": {
      "text/plain": [
       "'C:\\\\instantclient_19_10;C:\\\\instantclient_19_10;C:\\\\Users\\\\piwjs\\\\anaconda3;C:\\\\Users\\\\piwjs\\\\anaconda3\\\\Library\\\\mingw-w64\\\\bin;C:\\\\Users\\\\piwjs\\\\anaconda3\\\\Library\\\\usr\\\\bin;C:\\\\Users\\\\piwjs\\\\anaconda3\\\\Library\\\\bin;C:\\\\Users\\\\piwjs\\\\anaconda3\\\\Scripts;C:\\\\Users\\\\piwjs\\\\anaconda3\\\\bin;C:\\\\Users\\\\piwjs\\\\anaconda3\\\\condabin;C:\\\\oraclexe\\\\app\\\\oracle\\\\product\\\\11.2.0\\\\server\\\\bin;.;C:\\\\Program Files\\\\Common Files\\\\Oracle\\\\Java\\\\javapath;C:\\\\Windows\\\\system32;C:\\\\Windows;C:\\\\Windows\\\\System32\\\\Wbem;C:\\\\Windows\\\\System32\\\\WindowsPowerShell\\\\v1.0;C:\\\\Program Files (x86)\\\\Brackets\\\\command;C:\\\\Program Files\\\\Java\\\\jdk-11.0.10;.;\\\\bin;C:\\\\Program Files\\\\nodejs;C:\\\\Users\\\\piwjs\\\\anaconda3;C:\\\\Users\\\\piwjs\\\\anaconda3\\\\Library\\\\mingw-w64\\\\bin;C:\\\\Users\\\\piwjs\\\\anaconda3\\\\Library\\\\usr\\\\bin;C:\\\\Users\\\\piwjs\\\\anaconda3\\\\Library\\\\bin;C:\\\\Users\\\\piwjs\\\\anaconda3\\\\Scripts;C:\\\\Program Files\\\\MySQL\\\\MySQL Shell 8.0\\\\bin;C:\\\\Users\\\\piwjs\\\\AppData\\\\Local\\\\Microsoft\\\\WindowsApps;C:\\\\Users\\\\piwjs\\\\AppData\\\\Roaming\\\\npm;C:\\\\Users\\\\piwjs\\\\AppData\\\\Local\\\\Programs\\\\Microsoft VS Code\\\\bin'"
      ]
     },
     "execution_count": 7,
     "metadata": {},
     "output_type": "execute_result"
    }
   ],
   "source": [
    "# 3. 환경변수에 PATH 추가\n",
    "\n",
    "import os\n",
    "# path = 'C:\\\\instantclient_19_10' # 윈도우 방식의 구조\n",
    "# path = 'C:/instantclient_19_10' # 리눅스 계열의 방식\n",
    "path = r'C:\\instantclient_19_10' # raw로 하면 \\\n",
    "\n",
    "\n",
    "os.environ[\"PATH\"] = path + \";\" + os.environ[\"PATH\"]\n",
    "os.environ[\"PATH\"]\n"
   ]
  },
  {
   "cell_type": "code",
   "execution_count": 2,
   "id": "65ca815f-7dfb-46c7-a300-62503860b084",
   "metadata": {},
   "outputs": [
    {
     "data": {
      "text/plain": [
       "<cx_Oracle.Connection to id124@1.234.5.158:11521/xe>"
      ]
     },
     "execution_count": 2,
     "metadata": {},
     "output_type": "execute_result"
    }
   ],
   "source": [
    "import cx_Oracle as ora # 라이브러리 추가한 후, ora로 alias\n",
    "\n",
    "# 아이디/암호@서버주소:포트번호/SID\n",
    "conn = ora.connect('id124/pw124@1.234.5.158:11521/xe')\n",
    "conn"
   ]
  },
  {
   "cell_type": "code",
   "execution_count": 4,
   "id": "dd5efbed-f9dc-4f34-a54c-3b3c15884130",
   "metadata": {},
   "outputs": [
    {
     "name": "stdout",
     "output_type": "stream",
     "text": [
      "<class 'list'>\n",
      "<class 'tuple'>\n",
      "0\n"
     ]
    },
    {
     "data": {
      "text/plain": [
       "[(0,\n",
       "  '123',\n",
       "  <cx_Oracle.LOB at 0x2885444ab10>,\n",
       "  0,\n",
       "  '123',\n",
       "  datetime.datetime(2021, 3, 19, 11, 5, 2))]"
      ]
     },
     "execution_count": 4,
     "metadata": {},
     "output_type": "execute_result"
    }
   ],
   "source": [
    "cursor = conn.cursor()\n",
    "cursor.execute(\"SELECT * FROM BOARDTBL\")\n",
    "# a = [(), (), ()] # 현재 오라클에서 오는 타입\n",
    "rows = cursor.fetchall();\n",
    "# 보통 데이터 수집시 리스트 속에 객체 타입들이 들어가 있는 구조.\n",
    "# a = [{}, {}] # http://ihongss.com/json/exam2.json\n",
    "\n",
    "# tuple a = (1,2,3)\n",
    "# list a = [1,2,3]\n",
    "# 튜플은 데이터 변경 x readonly, list는 변경 o\n",
    "print(type(rows))\n",
    "print(type(rows[0]))\n",
    "print(rows[0][0])\n",
    "rows"
   ]
  }
 ],
 "metadata": {
  "kernelspec": {
   "display_name": "Python 3",
   "language": "python",
   "name": "python3"
  },
  "language_info": {
   "codemirror_mode": {
    "name": "ipython",
    "version": 3
   },
   "file_extension": ".py",
   "mimetype": "text/x-python",
   "name": "python",
   "nbconvert_exporter": "python",
   "pygments_lexer": "ipython3",
   "version": "3.8.8"
  }
 },
 "nbformat": 4,
 "nbformat_minor": 5
}
